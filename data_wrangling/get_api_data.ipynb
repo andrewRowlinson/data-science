{
 "cells": [
  {
   "cell_type": "markdown",
   "metadata": {},
   "source": [
    "Notebook to get seasonally adjusted employment rate (aged 16-64) for the UK from the Office for National Statistics API"
   ]
  },
  {
   "cell_type": "code",
   "execution_count": 1,
   "metadata": {
    "collapsed": true
   },
   "outputs": [],
   "source": [
    "#import json\n",
    "import json\n",
    "# import pandas\n",
    "import pandas as pd\n",
    "#import requests\n",
    "import requests\n",
    "# import matplotlib\n",
    "import matplotlib.pyplot as plt\n",
    "# import seaborn\n",
    "import seaborn as sns\n",
    "# set to plot automatically\n",
    "%matplotlib inline\n",
    "# set font size of charts\n",
    "sns.set(font_scale=2)"
   ]
  },
  {
   "cell_type": "markdown",
   "metadata": {},
   "source": [
    "First we are going to request the data from the Office for National Statistics API. Information on the API is available here: https://developer.ons.gov.uk/office-for-national-statistics-api/reference"
   ]
  },
  {
   "cell_type": "markdown",
   "metadata": {},
   "source": [
    "# Request data"
   ]
  },
  {
   "cell_type": "code",
   "execution_count": 2,
   "metadata": {
    "collapsed": true
   },
   "outputs": [],
   "source": [
    "# set the url link\n",
    "url_link=('https://api.ons.gov.uk/dataset/LMS/timeseries/LF24/data')\n",
    "# set the headers so the connection closes\n",
    "headers = {'Connection':'close'}\n",
    "# request the data from the link\n",
    "result = requests.get(url_link, headers=headers)\n",
    "# get the results as a python dictionary\n",
    "data = result.json()"
   ]
  },
  {
   "cell_type": "markdown",
   "metadata": {},
   "source": [
    "# Clean data"
   ]
  },
  {
   "cell_type": "code",
   "execution_count": 3,
   "metadata": {},
   "outputs": [
    {
     "name": "stdout",
     "output_type": "stream",
     "text": [
      "dict_keys(['alerts', 'uri', 'months', 'relatedDatasets', 'years', 'relatedDocuments', 'relatedData', 'type', 'sourceDatasets', 'section', 'quarters', 'description', 'versions', 'notes'])\n"
     ]
    }
   ],
   "source": [
    "# print the dictionary keys\n",
    "print(data.keys())"
   ]
  },
  {
   "cell_type": "code",
   "execution_count": 4,
   "metadata": {
    "collapsed": true
   },
   "outputs": [],
   "source": [
    "# save data from months key to dataframe\n",
    "df=pd.DataFrame(data.get('months'))"
   ]
  },
  {
   "cell_type": "code",
   "execution_count": 5,
   "metadata": {
    "collapsed": true
   },
   "outputs": [],
   "source": [
    "# set value to numeric\n",
    "df['value']=pd.to_numeric(df['value'])"
   ]
  },
  {
   "cell_type": "code",
   "execution_count": 6,
   "metadata": {
    "collapsed": true
   },
   "outputs": [],
   "source": [
    "# convert date to datetime\n",
    "df['date']=pd.to_datetime(df['date'])\n",
    "# rename date column so capatili\n",
    "df.rename(columns={'date':'Date'}, inplace=True)\n",
    "# set index to date\n",
    "df.set_index('Date',inplace=True)"
   ]
  },
  {
   "cell_type": "markdown",
   "metadata": {},
   "source": [
    "# Explore data"
   ]
  },
  {
   "cell_type": "code",
   "execution_count": 7,
   "metadata": {},
   "outputs": [
    {
     "data": {
      "text/html": [
       "<div>\n",
       "<style>\n",
       "    .dataframe thead tr:only-child th {\n",
       "        text-align: right;\n",
       "    }\n",
       "\n",
       "    .dataframe thead th {\n",
       "        text-align: left;\n",
       "    }\n",
       "\n",
       "    .dataframe tbody tr th {\n",
       "        vertical-align: top;\n",
       "    }\n",
       "</style>\n",
       "<table border=\"1\" class=\"dataframe\">\n",
       "  <thead>\n",
       "    <tr style=\"text-align: right;\">\n",
       "      <th></th>\n",
       "      <th>label</th>\n",
       "      <th>month</th>\n",
       "      <th>quarter</th>\n",
       "      <th>sourceDataset</th>\n",
       "      <th>updateDate</th>\n",
       "      <th>value</th>\n",
       "      <th>year</th>\n",
       "    </tr>\n",
       "    <tr>\n",
       "      <th>Date</th>\n",
       "      <th></th>\n",
       "      <th></th>\n",
       "      <th></th>\n",
       "      <th></th>\n",
       "      <th></th>\n",
       "      <th></th>\n",
       "      <th></th>\n",
       "    </tr>\n",
       "  </thead>\n",
       "  <tbody>\n",
       "    <tr>\n",
       "      <th>1971-02-01</th>\n",
       "      <td>1971 JAN-MAR</td>\n",
       "      <td>February</td>\n",
       "      <td></td>\n",
       "      <td>LMS</td>\n",
       "      <td>2015-10-13T23:00:00.000Z</td>\n",
       "      <td>72.2</td>\n",
       "      <td>1971</td>\n",
       "    </tr>\n",
       "    <tr>\n",
       "      <th>1971-03-01</th>\n",
       "      <td>1971 FEB-APR</td>\n",
       "      <td>March</td>\n",
       "      <td></td>\n",
       "      <td>LMS</td>\n",
       "      <td>2015-10-13T23:00:00.000Z</td>\n",
       "      <td>72.1</td>\n",
       "      <td>1971</td>\n",
       "    </tr>\n",
       "    <tr>\n",
       "      <th>1971-04-01</th>\n",
       "      <td>1971 MAR-MAY</td>\n",
       "      <td>April</td>\n",
       "      <td></td>\n",
       "      <td>LMS</td>\n",
       "      <td>2015-10-13T23:00:00.000Z</td>\n",
       "      <td>72.0</td>\n",
       "      <td>1971</td>\n",
       "    </tr>\n",
       "    <tr>\n",
       "      <th>1971-05-01</th>\n",
       "      <td>1971 APR-JUN</td>\n",
       "      <td>May</td>\n",
       "      <td></td>\n",
       "      <td>LMS</td>\n",
       "      <td>2015-10-13T23:00:00.000Z</td>\n",
       "      <td>72.0</td>\n",
       "      <td>1971</td>\n",
       "    </tr>\n",
       "    <tr>\n",
       "      <th>1971-06-01</th>\n",
       "      <td>1971 MAY-JUL</td>\n",
       "      <td>June</td>\n",
       "      <td></td>\n",
       "      <td>LMS</td>\n",
       "      <td>2015-10-13T23:00:00.000Z</td>\n",
       "      <td>71.9</td>\n",
       "      <td>1971</td>\n",
       "    </tr>\n",
       "  </tbody>\n",
       "</table>\n",
       "</div>"
      ],
      "text/plain": [
       "                   label     month quarter sourceDataset  \\\n",
       "Date                                                       \n",
       "1971-02-01  1971 JAN-MAR  February                   LMS   \n",
       "1971-03-01  1971 FEB-APR     March                   LMS   \n",
       "1971-04-01  1971 MAR-MAY     April                   LMS   \n",
       "1971-05-01  1971 APR-JUN       May                   LMS   \n",
       "1971-06-01  1971 MAY-JUL      June                   LMS   \n",
       "\n",
       "                          updateDate  value  year  \n",
       "Date                                               \n",
       "1971-02-01  2015-10-13T23:00:00.000Z   72.2  1971  \n",
       "1971-03-01  2015-10-13T23:00:00.000Z   72.1  1971  \n",
       "1971-04-01  2015-10-13T23:00:00.000Z   72.0  1971  \n",
       "1971-05-01  2015-10-13T23:00:00.000Z   72.0  1971  \n",
       "1971-06-01  2015-10-13T23:00:00.000Z   71.9  1971  "
      ]
     },
     "execution_count": 7,
     "metadata": {},
     "output_type": "execute_result"
    }
   ],
   "source": [
    "# show head\n",
    "df.head()"
   ]
  },
  {
   "cell_type": "code",
   "execution_count": 8,
   "metadata": {},
   "outputs": [
    {
     "data": {
      "text/html": [
       "<div>\n",
       "<style>\n",
       "    .dataframe thead tr:only-child th {\n",
       "        text-align: right;\n",
       "    }\n",
       "\n",
       "    .dataframe thead th {\n",
       "        text-align: left;\n",
       "    }\n",
       "\n",
       "    .dataframe tbody tr th {\n",
       "        vertical-align: top;\n",
       "    }\n",
       "</style>\n",
       "<table border=\"1\" class=\"dataframe\">\n",
       "  <thead>\n",
       "    <tr style=\"text-align: right;\">\n",
       "      <th></th>\n",
       "      <th>label</th>\n",
       "      <th>month</th>\n",
       "      <th>quarter</th>\n",
       "      <th>sourceDataset</th>\n",
       "      <th>updateDate</th>\n",
       "      <th>value</th>\n",
       "      <th>year</th>\n",
       "    </tr>\n",
       "    <tr>\n",
       "      <th>Date</th>\n",
       "      <th></th>\n",
       "      <th></th>\n",
       "      <th></th>\n",
       "      <th></th>\n",
       "      <th></th>\n",
       "      <th></th>\n",
       "      <th></th>\n",
       "    </tr>\n",
       "  </thead>\n",
       "  <tbody>\n",
       "    <tr>\n",
       "      <th>2017-07-01</th>\n",
       "      <td>2017 JUN-AUG</td>\n",
       "      <td>July</td>\n",
       "      <td></td>\n",
       "      <td>LMS</td>\n",
       "      <td>2017-10-17T23:00:00.000Z</td>\n",
       "      <td>75.1</td>\n",
       "      <td>2017</td>\n",
       "    </tr>\n",
       "    <tr>\n",
       "      <th>2017-08-01</th>\n",
       "      <td>2017 JUL-SEP</td>\n",
       "      <td>August</td>\n",
       "      <td></td>\n",
       "      <td>LMS</td>\n",
       "      <td>2017-11-15T00:00:00.000Z</td>\n",
       "      <td>75.0</td>\n",
       "      <td>2017</td>\n",
       "    </tr>\n",
       "    <tr>\n",
       "      <th>2017-09-01</th>\n",
       "      <td>2017 AUG-OCT</td>\n",
       "      <td>September</td>\n",
       "      <td></td>\n",
       "      <td>LMS</td>\n",
       "      <td>2017-12-13T00:00:00.000Z</td>\n",
       "      <td>75.1</td>\n",
       "      <td>2017</td>\n",
       "    </tr>\n",
       "    <tr>\n",
       "      <th>2017-10-01</th>\n",
       "      <td>2017 SEP-NOV</td>\n",
       "      <td>October</td>\n",
       "      <td></td>\n",
       "      <td>LMS</td>\n",
       "      <td>2018-01-24T00:00:00.000Z</td>\n",
       "      <td>75.3</td>\n",
       "      <td>2017</td>\n",
       "    </tr>\n",
       "    <tr>\n",
       "      <th>2017-11-01</th>\n",
       "      <td>2017 OCT-DEC</td>\n",
       "      <td>November</td>\n",
       "      <td></td>\n",
       "      <td>LMS</td>\n",
       "      <td>2018-02-21T00:00:00.000Z</td>\n",
       "      <td>75.2</td>\n",
       "      <td>2017</td>\n",
       "    </tr>\n",
       "  </tbody>\n",
       "</table>\n",
       "</div>"
      ],
      "text/plain": [
       "                   label      month quarter sourceDataset  \\\n",
       "Date                                                        \n",
       "2017-07-01  2017 JUN-AUG       July                   LMS   \n",
       "2017-08-01  2017 JUL-SEP     August                   LMS   \n",
       "2017-09-01  2017 AUG-OCT  September                   LMS   \n",
       "2017-10-01  2017 SEP-NOV    October                   LMS   \n",
       "2017-11-01  2017 OCT-DEC   November                   LMS   \n",
       "\n",
       "                          updateDate  value  year  \n",
       "Date                                               \n",
       "2017-07-01  2017-10-17T23:00:00.000Z   75.1  2017  \n",
       "2017-08-01  2017-11-15T00:00:00.000Z   75.0  2017  \n",
       "2017-09-01  2017-12-13T00:00:00.000Z   75.1  2017  \n",
       "2017-10-01  2018-01-24T00:00:00.000Z   75.3  2017  \n",
       "2017-11-01  2018-02-21T00:00:00.000Z   75.2  2017  "
      ]
     },
     "execution_count": 8,
     "metadata": {},
     "output_type": "execute_result"
    }
   ],
   "source": [
    "# show tail\n",
    "df.tail()"
   ]
  },
  {
   "cell_type": "markdown",
   "metadata": {},
   "source": [
    "# Visualize data"
   ]
  },
  {
   "cell_type": "code",
   "execution_count": 9,
   "metadata": {},
   "outputs": [
    {
     "data": {
      "image/png": "[encoded data removed]",
      "text/plain": [
       "<matplotlib.figure.Figure at 0x1f1af7d7dd8>"
      ]
     },
     "metadata": {},
     "output_type": "display_data"
    }
   ],
   "source": [
    "# plot data\n",
    "df.plot(legend=False,ylim=50);"
   ]
  }
 ],
 "metadata": {
  "kernelspec": {
   "display_name": "Python [conda root]",
   "language": "python",
   "name": "conda-root-py"
  },
  "language_info": {
   "codemirror_mode": {
    "name": "ipython",
    "version": 3
   },
   "file_extension": ".py",
   "mimetype": "text/x-python",
   "name": "python",
   "nbconvert_exporter": "python",
   "pygments_lexer": "ipython3",
   "version": "3.5.3"
  }
 },
 "nbformat": 4,
 "nbformat_minor": 2
}
