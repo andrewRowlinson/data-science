{
  "nbformat": 4,
  "nbformat_minor": 0,
  "metadata": {
    "colab": {
      "name": "overlapping_shapes_alpha.ipynb",
      "provenance": [],
      "authorship_tag": "ABX9TyPRT2m2a1XQw1KIsIwt3HL8",
      "include_colab_link": true
    },
    "kernelspec": {
      "name": "python3",
      "display_name": "Python 3"
    },
    "language_info": {
      "name": "python"
    }
  },
  "cells": [
    {
      "cell_type": "markdown",
      "metadata": {
        "id": "view-in-github",
        "colab_type": "text"
      },
      "source": [
        "<a href=\"https://colab.research.google.com/github/andrewRowlinson/data-science/blob/master/data_visualization/overlapping_shapes_alpha.ipynb\" target=\"_parent\"><img src=\"https://colab.research.google.com/assets/colab-badge.svg\" alt=\"Open In Colab\"/></a>"
      ]
    },
    {
      "cell_type": "code",
      "execution_count": 1,
      "metadata": {
        "colab": {
          "base_uri": "https://localhost:8080/",
          "height": 287
        },
        "id": "o2UuURO81XqE",
        "outputId": "cb300235-aa51-4798-9329-ddc621a203f8"
      },
      "outputs": [
        {
          "output_type": "execute_result",
          "data": {
            "text/plain": [
              "<matplotlib.patches.PathPatch at 0x7f5daf10d410>"
            ]
          },
          "metadata": {},
          "execution_count": 1
        },
        {
          "output_type": "display_data",
          "data": {
            "image/png": "[encoded data removed]",
            "text/plain": [
              "<Figure size 432x288 with 1 Axes>"
            ]
          },
          "metadata": {
            "needs_background": "light"
          }
        }
      ],
      "source": [
        "import numpy as np\n",
        "import matplotlib.pyplot as plt\n",
        "from matplotlib.patches import Circle, PathPatch\n",
        "from matplotlib.path import Path\n",
        "\n",
        "def get_path(patch):\n",
        "    \"\"\" get the real path from a patch\"\"\"\n",
        "    path = patch.get_path()\n",
        "    transform = patch.get_patch_transform()\n",
        "    return transform.transform_path(path)\n",
        "\n",
        "# get the paths\n",
        "path1 = get_path(Circle(xy=(0, 0), radius=0.5))\n",
        "path2 = get_path(Circle((0.5, 0.5), 0.5, alpha=0.5))\n",
        "\n",
        "# create a patch from the combination of the two paths\n",
        "path = Path(np.concatenate([path1.vertices, path2.vertices]),\n",
        "            np.concatenate([path1.codes, path2.codes]))\n",
        "pathpatch = PathPatch(path, facecolor='blue', alpha=0.2)\n",
        "\n",
        "# plot the combined shape\n",
        "fig,ax = plt.subplots()\n",
        "ax.set_xlim(-2, 2)\n",
        "ax.set_ylim(-2, 2)\n",
        "ax.set_aspect(1)\n",
        "ax.add_patch(pathpatch)"
      ]
    }
  ]
}