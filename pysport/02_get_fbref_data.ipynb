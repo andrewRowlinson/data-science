{
 "cells": [
  {
   "cell_type": "code",
   "execution_count": null,
   "id": "aff60507-446d-4691-968a-da6411082285",
   "metadata": {},
   "outputs": [],
   "source": [
    "import requests\n",
    "from bs4 import BeautifulSoup, Comment\n",
    "import pandas as pd\n",
    "import numpy as np\n",
    "from lxml import etree, html\n",
    "import re\n",
    "from io import StringIO\n",
    "import os\n",
    "import glob\n",
    "\n",
    "DATA_DIR = os.path.join('data', 'fbref')\n",
    "\n",
    "def get_soup(url):\n",
    "    headers = {'User-Agent': ('Mozilla/5.0 (Macintosh; Intel Mac OS X 10_10_1) AppleWebKit/537.36 (KHTML, like Gecko) '\n",
    "                              'Chrome/39.0.2171.95 Safari/537.36')}\n",
    "    r = requests.get(url, headers=headers)\n",
    "    r.encoding = 'unicode-escape'\n",
    "    return BeautifulSoup(r.content, 'html.parser')\n",
    "\n",
    "def get_url(stat):\n",
    "    prefix = 'https://fbref.com/en/comps/37/2022-2023/'\n",
    "    suffix = '/2022-2023-Belgian-Pro-League-Stats'\n",
    "    return f'{prefix}{stat}{suffix}'\n",
    "\n",
    "def flatten_cols(df):\n",
    "    col_level1 = list(df.columns.get_level_values(0))\n",
    "    col_level1 = ['' if c[:7]=='Unnamed' else c.replace(' ', '_').lower() for c in col_level1]\n",
    "    col_level2 = list(df.columns.get_level_values(1))\n",
    "    col_level2 = [c.replace(' ', '_').lower() for c in col_level2]\n",
    "    cols = [f'{c}_{col_level2[i]}' if c != '' else col_level2[i] for i, c in enumerate(col_level1)]\n",
    "    cols = [re.sub('[^0-9a-zA-Z]+', '_', c.replace('%', '_percent').replace('+/-', '_plus_minus')).rstrip('_') for c in cols]\n",
    "    df.columns = cols\n",
    "    return df\n",
    "\n",
    "def extract_stats(url):\n",
    "    soup = get_soup(url)\n",
    "    comments = soup.findAll(string=lambda string:isinstance(string, Comment))\n",
    "    extracted_comments = [comment.extract() for comment in comments if 'table' in str(comment)]   \n",
    "    df = pd.read_html(StringIO(str(extracted_comments[0])))[0]\n",
    "    return flatten_cols(df)\n",
    "\n",
    "def stats_to_parquet(stat, directory):\n",
    "    url = get_url(stat)\n",
    "    df = extract_stats(url)\n",
    "    df = df[df['rk'] != 'Rk'].copy()\n",
    "    df.drop(['rk', 'matches'], axis='columns', inplace=True)\n",
    "    file_name = os.path.join(directory, f'{stat}.parquet')\n",
    "    df.to_parquet(file_name)"
   ]
  },
  {
   "cell_type": "code",
   "execution_count": null,
   "id": "445947f7-f6e0-4c62-ab59-4caec70fe5f6",
   "metadata": {},
   "outputs": [],
   "source": [
    "stats_to_parquet('playingtime', DATA_DIR)"
   ]
  },
  {
   "cell_type": "code",
   "execution_count": null,
   "id": "227b0731-5275-4707-84a7-e03ae40fb2ab",
   "metadata": {},
   "outputs": [],
   "source": [
    "stats_to_parquet('stats', DATA_DIR)"
   ]
  },
  {
   "cell_type": "code",
   "execution_count": null,
   "id": "81ff4ca9-097f-4295-be7d-1e7ede6a1d9c",
   "metadata": {},
   "outputs": [],
   "source": [
    "stats_to_parquet('keepers', DATA_DIR)"
   ]
  },
  {
   "cell_type": "code",
   "execution_count": null,
   "id": "f22b0102-28f7-47c4-9327-8933b2a5d8e6",
   "metadata": {},
   "outputs": [],
   "source": [
    "stats_to_parquet('keepersadv', DATA_DIR)"
   ]
  },
  {
   "cell_type": "code",
   "execution_count": null,
   "id": "8d335176-8c03-4955-8b3a-60eef1bd4de5",
   "metadata": {},
   "outputs": [],
   "source": [
    "stats_to_parquet('shooting', DATA_DIR)"
   ]
  },
  {
   "cell_type": "code",
   "execution_count": null,
   "id": "18f228d7-4aa8-4e3d-ae22-731b634c6412",
   "metadata": {},
   "outputs": [],
   "source": [
    "stats_to_parquet('passing', DATA_DIR)"
   ]
  },
  {
   "cell_type": "code",
   "execution_count": null,
   "id": "ea0776f6-f3a5-4c55-b3c2-384f8af0ecc0",
   "metadata": {},
   "outputs": [],
   "source": [
    "stats_to_parquet('passing_types', DATA_DIR)"
   ]
  },
  {
   "cell_type": "code",
   "execution_count": null,
   "id": "2d8a5718-e385-41fa-9673-60edcd3cbe92",
   "metadata": {},
   "outputs": [],
   "source": [
    "stats_to_parquet('gca', DATA_DIR)"
   ]
  },
  {
   "cell_type": "code",
   "execution_count": null,
   "id": "8df12e5e-f0cf-4baf-ac1c-87a8812f15ac",
   "metadata": {},
   "outputs": [],
   "source": [
    "stats_to_parquet('defense', DATA_DIR)"
   ]
  },
  {
   "cell_type": "code",
   "execution_count": null,
   "id": "58c29c73-6ab0-458d-ab83-1bfff8e3dfe7",
   "metadata": {},
   "outputs": [],
   "source": [
    "stats_to_parquet('possession', DATA_DIR)"
   ]
  },
  {
   "cell_type": "code",
   "execution_count": null,
   "id": "0d9f1448-91c5-429f-870e-f712fb501fd9",
   "metadata": {},
   "outputs": [],
   "source": [
    "stats_to_parquet('misc', DATA_DIR)"
   ]
  },
  {
   "cell_type": "code",
   "execution_count": null,
   "id": "84bdc0bc-17b9-4794-b310-c1843d44b37b",
   "metadata": {},
   "outputs": [],
   "source": [
    "files = glob.glob(os.path.join(DATA_DIR, '*'))\n",
    "df = pd.read_parquet([f for f in files if 'playingtime' in f][0])\n",
    "files = [f for f in files if 'playingtime' not in f]\n",
    "for f in files:\n",
    "    df_temp = pd.read_parquet(f)\n",
    "    df = df.merge(df_temp, on=['player', 'squad'], how='left', suffixes=['', '_to_remove'])\n",
    "cols_to_remove = [col for col in df.columns if '_to_remove' in col]\n",
    "df.drop(cols_to_remove, axis='columns', inplace=True)\n",
    "df.to_parquet('player_stats_112_2022.parquet')"
   ]
  }
 ],
 "metadata": {
  "kernelspec": {
   "display_name": "Python 3 (ipykernel)",
   "language": "python",
   "name": "python3"
  },
  "language_info": {
   "codemirror_mode": {
    "name": "ipython",
    "version": 3
   },
   "file_extension": ".py",
   "mimetype": "text/x-python",
   "name": "python",
   "nbconvert_exporter": "python",
   "pygments_lexer": "ipython3",
   "version": "3.12.2"
  }
 },
 "nbformat": 4,
 "nbformat_minor": 5
}
