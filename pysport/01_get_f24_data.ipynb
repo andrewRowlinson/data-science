{
 "cells": [
  {
   "cell_type": "code",
   "execution_count": null,
   "id": "2c2b202c-59b9-40f5-ad19-a897c72c7918",
   "metadata": {},
   "outputs": [],
   "source": [
    "import os\n",
    "import pandas as pd\n",
    "import glob\n",
    "from optasoccer import read_f24"
   ]
  },
  {
   "cell_type": "code",
   "execution_count": null,
   "id": "fe4ade04-0cf8-4477-a853-1f8fd4ac043a",
   "metadata": {},
   "outputs": [],
   "source": [
    "all_events = []\n",
    "all_matches = []\n",
    "files = glob.glob(os.path.join('data', 'f24', '*.xml'))\n",
    "for file in files:\n",
    "    events, matches = read_f24(file)\n",
    "    all_events.append(events)\n",
    "    all_matches.append(matches)\n",
    "all_events = pd.concat(all_events)\n",
    "all_events = all_events[list(all_events.columns[:19]) + list(all_events.columns[19:].sort_values())].copy()\n",
    "all_matches = pd.concat(all_matches)"
   ]
  },
  {
   "cell_type": "code",
   "execution_count": null,
   "id": "22385103-5b33-4aea-8e7b-43b9fd5ed963",
   "metadata": {},
   "outputs": [],
   "source": [
    "competition_id = all_matches.competition_id.unique()[0]\n",
    "season_id = all_matches.season_id.unique()[0]\n",
    "fname_suffix = f'{competition_id}_{season_id}'\n",
    "all_events = all_events.sort_values(['match_id', 'period_id', 'min', 'sec', 'timestamp']).reset_index(drop=True).copy()\n",
    "all_matches.to_parquet(f'opta_matches_{fname_suffix}.parquet')\n",
    "all_events.to_parquet(f'opta_events_{fname_suffix}.parquet')"
   ]
  }
 ],
 "metadata": {
  "kernelspec": {
   "display_name": "Python 3 (ipykernel)",
   "language": "python",
   "name": "python3"
  },
  "language_info": {
   "codemirror_mode": {
    "name": "ipython",
    "version": 3
   },
   "file_extension": ".py",
   "mimetype": "text/x-python",
   "name": "python",
   "nbconvert_exporter": "python",
   "pygments_lexer": "ipython3",
   "version": "3.12.2"
  }
 },
 "nbformat": 4,
 "nbformat_minor": 5
}
