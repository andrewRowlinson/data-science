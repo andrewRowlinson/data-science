{
 "cells": [
  {
   "cell_type": "code",
   "execution_count": null,
   "id": "2c2b202c-59b9-40f5-ad19-a897c72c7918",
   "metadata": {},
   "outputs": [],
   "source": [
    "import pandas as pd\n",
    "from mplsoccer import Pitch"
   ]
  },
  {
   "cell_type": "code",
   "execution_count": null,
   "id": "c81bc44e-35a5-432b-811c-22c58ef9d804",
   "metadata": {},
   "outputs": [],
   "source": [
    "df = pd.read_parquet('opta_events_112_2022.parquet')\n",
    "p = Pitch(pitch_type='opta')"
   ]
  },
  {
   "cell_type": "markdown",
   "id": "f8574cf9-d45a-4785-83bc-b8b444c17806",
   "metadata": {},
   "source": [
    "Add on the x/ coordinates in relation to the camera instead of left to right"
   ]
  },
  {
   "cell_type": "code",
   "execution_count": null,
   "id": "3f68fddc-d8ae-46f0-8a6f-37485c7b3248",
   "metadata": {},
   "outputs": [],
   "source": [
    "df_direction = df.loc[df.direction_of_play.notnull(), ['match_id', 'team_id', 'period_id', 'direction_of_play']].copy()\n",
    "df_direction['camera_right_to_left'] = df_direction['direction_of_play'] == 'Right to Left'\n",
    "df.drop('direction_of_play', axis='columns', inplace=True)\n",
    "df = df.merge(df_direction, on=['match_id', 'team_id', 'period_id'], how='left', validate='m:1')\n",
    "# fill missing\n",
    "df.loc[df['shot_goal_mouth_y_coordinate'].notnull(), 'shot_goal_mouth_x_coordinate'] = p.dim.right\n",
    "df.loc[df['type_name'] == 'foul_throw_in', 'end_x'] = df.loc[df['type_name'] == 'foul_throw_in', 'x']\n",
    "df.loc[df['type_name'] == 'foul_throw_in', 'end_y'] = df.loc[df['type_name'] == 'foul_throw_in', 'y']\n",
    "# flip coordinates for camera\n",
    "df['camera_x'], df['camera_y'] = p.flip_side(df['x'], df['y'], df['camera_right_to_left'])\n",
    "df['camera_pass_end_x'], df['camera_pass_end_y'] = p.flip_side(df['pass_end_x'], df['pass_end_y'], df['camera_right_to_left'])\n",
    "df['camera_shot_blocked_x_coordinate'], df['camera_shot_blocked_y_coordinate'] = p.flip_side(df['shot_blocked_x_coordinate'], df['shot_blocked_y_coordinate'], df['camera_right_to_left'])\n",
    "df['camera_shot_goal_mouth_x_coordinate'], df['camera_shot_goal_mouth_y_coordinate'] = p.flip_side(df['shot_goal_mouth_x_coordinate'], df['shot_goal_mouth_y_coordinate'], df['camera_right_to_left'])\n",
    "# end coordinates\n",
    "df['camera_end_x'] = (df['camera_pass_end_x']\n",
    "                      .fillna(df['camera_shot_blocked_x_coordinate'])\n",
    "                      .fillna(df['camera_shot_goal_mouth_x_coordinate'])\n",
    "                     )\n",
    "df['camera_end_y'] = (df['camera_pass_end_y']\n",
    "                      .fillna(df['camera_shot_blocked_y_coordinate'])\n",
    "                      .fillna(df['camera_shot_goal_mouth_y_coordinate'])\n",
    "                     )"
   ]
  },
  {
   "cell_type": "markdown",
   "id": "5a8b3368-e93e-435f-92c5-f6a5a2ff328f",
   "metadata": {},
   "source": [
    "Add on some boolean columns for pass/shot/goal/ and set pieces"
   ]
  },
  {
   "cell_type": "code",
   "execution_count": null,
   "id": "83bfc757-842c-46ff-8d58-61f3b7fbd5ec",
   "metadata": {},
   "outputs": [],
   "source": [
    "df['shot'] = df['type_name'].isin(['goal', 'attempt_saved', 'miss', 'post'])\n",
    "df['goal'] = df['type_name'] == 'goal'\n",
    "df['pass'] = df['type_name'].isin(['pass', 'offside_pass', 'foul_throw_in'])\n",
    "df['set_piece_taken'] = (df['free_kick_taken'] |\n",
    "                         df['free_kick'] | # includes tap pass can exclude with df['assisted'].isnull()\n",
    "                         df['corner_taken'] |\n",
    "                         df['shot_corner_direct'] |\n",
    "                         df['goalkeeper_goal_kick'] |\n",
    "                         df['kick_off'] |\n",
    "                         df['throw_in'] |\n",
    "                         (df['type_name'] == 'foul_throw_in')\n",
    "                        )"
   ]
  },
  {
   "cell_type": "markdown",
   "id": "e2056e99-c056-4412-9357-b471e2c30ec9",
   "metadata": {},
   "source": [
    "Remove some events that aren't the offensive team or aren't related to play (e.g. formations)"
   ]
  },
  {
   "cell_type": "code",
   "execution_count": null,
   "id": "225e2369-ef21-4888-a226-8bce6c4e7c0d",
   "metadata": {},
   "outputs": [],
   "source": [
    "remove_events = ['attempted_tackle', 'card', 'challenge', 'chance_missed',\n",
    "                 'coach_setup', 'collection_end', 'contentious_referee_decision',\n",
    "                 'coverage_interruption', 'cross_not_claimed', 'delayed_start',\n",
    "                 'deleted_after_review', 'end', 'end_delay',\n",
    "                 'formation_change', 'good_skill', 'injury_time_announcement',\n",
    "                 'obstacle', 'offside_provoked', 'penalty_faced',\n",
    "                 'player_becomes_goalkeeper', 'player_off', 'player_on',\n",
    "                 'player_retired', 'referee_drop_ball', 'shield_ball_opp', 'start',\n",
    "                 'start_delay', 'take_on', 'team_set_up']\n",
    "df = df[~df['type_name'].isin(remove_events)].copy()\n",
    "# remove defensive duels\n",
    "df = df[df['duel_events_defensive'].isnull()].copy()"
   ]
  },
  {
   "cell_type": "code",
   "execution_count": null,
   "id": "6853f008-de31-4fb4-bc69-d57a61324488",
   "metadata": {},
   "outputs": [],
   "source": [
    "multi_outcome_events = ['aerial', '50_50', 'foul',\n",
    "                        'corner_awarded', 'foul_throw_in', 'out', 'referee_drop_ball']\n",
    "mask_multi = (df['type_name'].isin(multi_outcome_events))\n",
    "mask_success = df['outcome'] == 1\n",
    "df = df[(~mask_multi) | (mask_multi & mask_success)].dropna(how='all', axis='columns').reset_index(drop=True).copy()"
   ]
  },
  {
   "cell_type": "markdown",
   "id": "48324fb7-3cfe-4b47-9f42-0bdd8fe604a4",
   "metadata": {},
   "source": [
    "Add 'out' events to the previous events and change the outcome of events where the pass or ball recovery went out/ was offside but it looks succesful"
   ]
  },
  {
   "cell_type": "code",
   "execution_count": null,
   "id": "2d582f70-e3e2-4591-9bcf-75df690b65ca",
   "metadata": {},
   "outputs": [],
   "source": [
    "df['out'] = df['type_name'].isin(['out', 'corner_awarded'])\n",
    "df['previous_out'] = df.groupby(['match_id', 'period_id'])['out'].shift(1) == True\n",
    "df['out'] = df.groupby(['match_id', 'period_id'])['out'].shift(-1) == True\n",
    "df['next_camera_x'] = df.groupby(['match_id', 'period_id'])['camera_x'].shift(-1)\n",
    "df['next_camera_y'] = df.groupby(['match_id', 'period_id'])['camera_y'].shift(-1)\n",
    "df = df[~df['type_name'].isin(['out', 'corner_awarded'])].dropna(how='all', axis='columns').reset_index(drop=True).copy()"
   ]
  },
  {
   "cell_type": "code",
   "execution_count": null,
   "id": "b16a9c1b-2768-4e2a-a772-b4b38dbff4e0",
   "metadata": {},
   "outputs": [],
   "source": [
    "mask_change_outcome = (df['out']) & (df['type_name'] == 'pass') & (df['outcome'] == 1)\n",
    "print('Number of outcomes changed:', mask_change_outcome.sum())\n",
    "df.loc[mask_change_outcome, 'outcome'] = 0\n",
    "# change outcome of offside pass to zero\n",
    "mask_change_outcome2 = df['type_name'].isin(['offside_pass', 'foul_throw_in'])\n",
    "print('Number of outcomes changed:', mask_change_outcome2.sum())\n",
    "df.loc[mask_change_outcome, 'outcome'] = 0\n",
    "mask_change_type = (df['type_name'] == 'ball_recovery') & (df['out'] == True)\n",
    "print('Number of type_name changed', mask_change_type.sum())\n",
    "df.loc[mask_change_type, 'type_name'] = 'ball_touch'"
   ]
  },
  {
   "cell_type": "markdown",
   "id": "af80f6a2-da3b-440a-b3f8-4a9f8ff0f8ff",
   "metadata": {},
   "source": [
    "Fix x/y end coordinates that went out but the event doesn't have the final coordinate"
   ]
  },
  {
   "cell_type": "code",
   "execution_count": null,
   "id": "526ce63b-00ce-4a2e-9364-d11503ca2b8e",
   "metadata": {},
   "outputs": [],
   "source": [
    "mask_missing = df['out'] & (df['camera_end_x'].isnull())\n",
    "mask_change = (df['out'] & \n",
    "               (df['camera_end_x'] > 0) & (df['camera_end_x'] < 100) & (df['camera_end_y'] > 0) & (df['camera_end_y'] < 100) & \n",
    "               ((df['next_camera_x'] <= 0) | (df['next_camera_x'] >= 0) | (df['next_camera_x'] >= 100) | (df['next_camera_y'] >= 100))\n",
    "              )\n",
    "df.loc[mask_missing | mask_change, 'camera_end_x'] = df.loc[mask_missing | mask_change, 'next_camera_x']\n",
    "df.loc[mask_missing | mask_change, 'camera_end_y'] = df.loc[mask_missing | mask_change, 'next_camera_y']"
   ]
  },
  {
   "cell_type": "markdown",
   "id": "ac5ec3cb-d286-419b-aa2a-16c282852d4c",
   "metadata": {},
   "source": [
    "Work out if an event was a carry"
   ]
  },
  {
   "cell_type": "code",
   "execution_count": null,
   "id": "f5f7d008-a7d3-485c-a7f5-828c3c44b446",
   "metadata": {},
   "outputs": [],
   "source": [
    "df['previous_team_name'] = df.groupby(['match_id', 'period_id'])['team_name'].shift(1)\n",
    "df['previous_type_name'] = df.groupby(['match_id', 'period_id'])['type_name'].shift(1)\n",
    "df['previous_player_id'] = df.groupby(['match_id', 'period_id'])['player_id'].shift(1)\n",
    "df['previous_camera_end_x'] = df.groupby(['match_id', 'period_id'])['camera_end_x'].shift(1)\n",
    "df['previous_camera_end_y'] = df.groupby(['match_id', 'period_id'])['camera_end_y'].shift(1)\n",
    "df['previous_camera_x'] = df.groupby(['match_id', 'period_id'])['camera_x'].shift(1)\n",
    "df['previous_camera_y'] = df.groupby(['match_id', 'period_id'])['camera_y'].shift(1)\n",
    "df['previous_outcome'] = df.groupby(['match_id', 'period_id'])['outcome'].shift(1)\n",
    "df['same_team'] = (df['previous_team_name'] == df['team_name']) | (df['previous_team_name'].isnull())\n",
    "df['same_player'] = (df['previous_player_id'] == df['player_id'])\n",
    "df['previous_defensive_touch_type_control'] = df.groupby(['match_id', 'period_id'])['defensive_touch_type_control'].shift(1)\n",
    "df['previous_timestamp_utc'] = df.groupby(['match_id', 'period_id'])['timestamp_utc'].shift(1)"
   ]
  },
  {
   "cell_type": "code",
   "execution_count": null,
   "id": "08b35c74-c607-4ece-8101-6dfba96668c1",
   "metadata": {},
   "outputs": [],
   "source": [
    "mask1 = df['same_team'] & df['previous_type_name'].isin(['pass', 'ball_recovery', 'keeper_pick_up', 'drop_of_ball', 'miss', 'attempt_saved', 'smother', 'punch', 'post'])\n",
    "mask2 = df['previous_type_name'].isin(['50_50', 'tackle']) & (df['same_player'] == 1) & (df.type_name == 'pass') & df['duel_events_offensive'].isnull()\n",
    "mask3 = (df['previous_type_name'] == 'claim') & (df['same_player']) & (df['previous_outcome'] == 1)\n",
    "mask4 = (df['timestamp_utc'] - df['previous_timestamp_utc']) < pd.Timedelta(1, 'minute')\n",
    "mask_carry = ((mask1 | mask2 | mask3)\n",
    "              & mask4 # rules out around 200 dribbles for being 1+ minutes\n",
    "              & (df['set_piece_taken'].isnull())\n",
    "              & (df['shot_first_touch'].isnull())\n",
    "              & (df['shot_volley'].isnull())\n",
    "              & (df['body_part_head'].isnull())\n",
    "              & (df['body_part_other'].isnull())\n",
    "             )\n",
    "df['carry_between'] = mask_carry\n",
    "df.index = df.index + df['carry_between'].cumsum()"
   ]
  },
  {
   "cell_type": "markdown",
   "id": "6753234d-ade8-4c18-9f64-aabbe29fd5b0",
   "metadata": {},
   "source": [
    "Create carry events and add to the other actions"
   ]
  },
  {
   "cell_type": "code",
   "execution_count": null,
   "id": "7f6859ad-9448-458e-bbbc-3a506259e2ea",
   "metadata": {},
   "outputs": [],
   "source": [
    "df_carry = df.loc[df['carry_between'], ['match_id', 'period_id', 'team_id', 'team_name', 'player_id', 'type_name', 'previous_camera_x', 'previous_camera_y',\n",
    "                                        'previous_camera_end_x', 'previous_camera_end_y', 'camera_x', 'camera_y']].copy()\n",
    "df_carry.rename({'camera_x': 'camera_end_x', 'camera_y': 'camera_end_y'}, axis='columns', inplace=True)\n",
    "df_carry['type_name'] = 'carry'\n",
    "df_carry['camera_x'], df_carry['camera_y'] = df_carry['previous_camera_end_x'].fillna(df['previous_camera_x']), df_carry['previous_camera_end_y'].fillna(df['previous_camera_y'])\n",
    "df_carry = df_carry.drop(['previous_camera_x', 'previous_camera_y', 'previous_camera_end_x', 'previous_camera_end_y'], axis='columns').copy()\n",
    "xstart, ystart = p.standardizer.transform(df_carry['camera_x'], df_carry['camera_y'])\n",
    "xend, yend = p.standardizer.transform(df_carry['camera_end_x'], df_carry['camera_end_y'])\n",
    "df_carry['angle'], df_carry['length'] = p.calculate_angle_and_distance(xstart, ystart, xend, yend, standardized=True)\n",
    "df_carry.index = df_carry.index - 1\n",
    "df_carry = df_carry[df_carry['length'] >= 2].copy() # rules out 51.1k for being less than 2 meters\n",
    "df_carry['pass'] = False\n",
    "df_carry['shot'] = False\n",
    "df_carry['goal'] = False\n",
    "df_carry['outcome'] = 1\n",
    "# add to the other actions\n",
    "df_actions = pd.concat([df, df_carry]).sort_index().reset_index(drop=True)\n",
    "df_actions['carry'] = df_actions['type_name'] == 'carry'"
   ]
  },
  {
   "cell_type": "markdown",
   "id": "5ff5860d-e28e-4e36-b191-e6f47e355526",
   "metadata": {},
   "source": [
    "Clean up and add the non-camera coordinates and save the final action filem"
   ]
  },
  {
   "cell_type": "code",
   "execution_count": null,
   "id": "5420e2fe-cc27-44cd-9708-a5d7da957910",
   "metadata": {},
   "outputs": [],
   "source": [
    "df_actions.drop(columns=['camera_right_to_left', 'shot_goal_mouth_x_coordinate', 'camera_pass_end_x', 'camera_pass_end_y', 'end_x', 'end_y',\n",
    "                         'camera_shot_blocked_x_coordinate', 'camera_shot_blocked_y_coordinate', 'camera_shot_goal_mouth_x_coordinate',\n",
    "                         'camera_shot_goal_mouth_y_coordinate', 'out', 'previous_out',\n",
    "                         'next_camera_x', 'next_camera_y', 'previous_team_name', 'previous_type_name', 'previous_player_id', 'previous_camera_end_x',\n",
    "                         'previous_camera_end_y', 'previous_camera_x', 'previous_camera_y', 'previous_outcome', 'same_team', 'same_player', \n",
    "                         'previous_defensive_touch_type_control', 'previous_timestamp_utc', 'carry_between'], axis='columns', inplace=True)"
   ]
  },
  {
   "cell_type": "code",
   "execution_count": null,
   "id": "b8e9fba9-45ba-408b-ac4d-da419d56b2ff",
   "metadata": {},
   "outputs": [],
   "source": [
    "df_actions = df_actions.merge(df_direction, on=['match_id', 'team_id', 'period_id'], how='left', validate='m:1')\n",
    "new_x, new_y = p.flip_side(df_actions['camera_x'], df_actions['camera_y'], df_actions['camera_right_to_left'])\n",
    "df_actions.loc[df_actions['x'].isnull(), 'x'] = new_x[df_actions['x'].isnull()].round(1)\n",
    "df_actions.loc[df_actions['y'].isnull(), 'y'] = new_y[df_actions['y'].isnull()].round(1)\n",
    "df_actions['end_x'], df_actions['end_y'] = p.flip_side(df_actions['camera_end_x'], df_actions['camera_end_y'], df_actions['camera_right_to_left'])\n",
    "df_actions['end_x'] = df_actions['end_x'].round(1)\n",
    "df_actions['end_y'] = df_actions['end_y'].round(1)"
   ]
  },
  {
   "cell_type": "code",
   "execution_count": null,
   "id": "44cbd222-31fe-4ec9-b82e-3b440152a396",
   "metadata": {},
   "outputs": [],
   "source": [
    "df_actions.to_parquet('opta_actions_112_2022.parquet')"
   ]
  }
 ],
 "metadata": {
  "kernelspec": {
   "display_name": "Python 3 (ipykernel)",
   "language": "python",
   "name": "python3"
  },
  "language_info": {
   "codemirror_mode": {
    "name": "ipython",
    "version": 3
   },
   "file_extension": ".py",
   "mimetype": "text/x-python",
   "name": "python",
   "nbconvert_exporter": "python",
   "pygments_lexer": "ipython3",
   "version": "3.12.2"
  }
 },
 "nbformat": 4,
 "nbformat_minor": 5
}
