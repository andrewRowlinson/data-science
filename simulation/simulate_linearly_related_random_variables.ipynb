{
 "cells": [
  {
   "cell_type": "markdown",
   "metadata": {},
   "source": [
    "# Simulated linearly related random variables"
   ]
  },
  {
   "cell_type": "markdown",
   "metadata": {},
   "source": [
    "Delivery times $X_1$ and $X_2$ for two products are related through a linear transformation:\n",
    "$\\begin{bmatrix} X_1 \\\\ X_2 \\end{bmatrix} = \\begin{bmatrix} 2 & 2 \\\\ 1 & 4 \\end{bmatrix} \\begin{bmatrix} Z_1 \\\\ Z_2 \\end{bmatrix} + \\begin{bmatrix} 15 \\\\ 20 \\end{bmatrix}$  <br>\n",
    "where $Z_1$ and $Z_2$ both follow standardized normal distribution N(0,1), and are independent of each other. $Z_1$ and $Z_2$ indicate conditions related to certain raw materials. This notebook simulates the values $X_1$ and $X_2$."
   ]
  },
  {
   "cell_type": "code",
   "execution_count": 1,
   "metadata": {
    "collapsed": true
   },
   "outputs": [],
   "source": [
    "# import libaries\n",
    "import numpy as np\n",
    "import matplotlib.pyplot as plt\n",
    "# set to plot automatically\n",
    "%matplotlib inline"
   ]
  },
  {
   "cell_type": "code",
   "execution_count": 2,
   "metadata": {
    "collapsed": true
   },
   "outputs": [],
   "source": [
    "# set random state so repeatable results\n",
    "np.random.seed(42)"
   ]
  },
  {
   "cell_type": "code",
   "execution_count": 3,
   "metadata": {
    "collapsed": true
   },
   "outputs": [],
   "source": [
    "# Draw conditions for materials\n",
    "samples=1000\n",
    "Z = np.random.randn(2,1000)"
   ]
  },
  {
   "cell_type": "code",
   "execution_count": 4,
   "metadata": {
    "collapsed": true
   },
   "outputs": [],
   "source": [
    "# calculate X through dot product and addition (broadcasting)\n",
    "X = np.dot(np.array([[2,2],[1,4]]),Z)+np.array([[15],[20]])"
   ]
  },
  {
   "cell_type": "code",
   "execution_count": 5,
   "metadata": {
    "collapsed": true
   },
   "outputs": [],
   "source": [
    "# store values in variables for X1 and X2\n",
    "X1 = X[0]\n",
    "X2 = X[1]"
   ]
  },
  {
   "cell_type": "markdown",
   "metadata": {},
   "source": [
    "# Detect outliers using mahalanobis distance"
   ]
  },
  {
   "cell_type": "markdown",
   "metadata": {},
   "source": [
    "The Mahalanobis distance can be defined as <br>\n",
    "$\\sqrt {({\\vec {x}}-{\\vec {\\mu }})^{T}S^{-1}({\\vec {x}}-{\\vec {\\mu }})}$ <br>\n",
    "This can be used to detect outliers as only 5% of **squared** mahalanobis distances are expected to be greater than 5.99 see 'use of mahalnobis distance for detecting outliers and clusters in markedly non-nomal data' available at http://www.dtic.mil/dtic/tr/fulltext/u2/a545834.pdf"
   ]
  },
  {
   "cell_type": "code",
   "execution_count": 6,
   "metadata": {
    "collapsed": true
   },
   "outputs": [],
   "source": [
    "# calculate covariance matrix: cov_matrix\n",
    "cov_matrix=np.cov(X1,X2)"
   ]
  },
  {
   "cell_type": "code",
   "execution_count": 7,
   "metadata": {
    "collapsed": true
   },
   "outputs": [],
   "source": [
    "# calculate inverse covariance matrix: inv_cov\n",
    "inv_cov_matrix=np.linalg.inv(cov_matrix)"
   ]
  },
  {
   "cell_type": "code",
   "execution_count": 8,
   "metadata": {
    "collapsed": true
   },
   "outputs": [],
   "source": [
    "# calculate mean of random variable X: mean_X\n",
    "mean_X=X.mean(axis=1)"
   ]
  },
  {
   "cell_type": "code",
   "execution_count": 9,
   "metadata": {
    "collapsed": true
   },
   "outputs": [],
   "source": [
    "# calculate X - mean: part1\n",
    "part1 = np.transpose(X)-mean_X"
   ]
  },
  {
   "cell_type": "code",
   "execution_count": 10,
   "metadata": {
    "collapsed": true
   },
   "outputs": [],
   "source": [
    "# dot product of part 1 with the inv_cov_matrix: part2\n",
    "part2 = np.dot(part1,inv_cov_matrix)"
   ]
  },
  {
   "cell_type": "code",
   "execution_count": 11,
   "metadata": {
    "collapsed": true
   },
   "outputs": [],
   "source": [
    "# calculate squared mahalanobis distance: mahalanobis_distance_sq \n",
    "mahalanobis_distance_sq = np.sum(np.multiply(part2,part1),axis=1)"
   ]
  },
  {
   "cell_type": "code",
   "execution_count": 12,
   "metadata": {
    "collapsed": true
   },
   "outputs": [],
   "source": [
    "#  only 5% of squared mahalanobis distances are expected to be greater than 5.99\n",
    "# create mask for outliers\n",
    "mask = mahalanobis_distance_sq>5.99\n",
    "# filter outliers\n",
    "X1_outliers = X1[mask]\n",
    "X2_outliers = X2[mask]\n",
    "# remove outliers\n",
    "X1_new = X1[~mask]\n",
    "X2_new = X2[~mask]"
   ]
  },
  {
   "cell_type": "code",
   "execution_count": 13,
   "metadata": {},
   "outputs": [
    {
     "data": {
      "image/png": "[encoded data removed]",
      "text/plain": [
       "<matplotlib.figure.Figure at 0x1b353ac5358>"
      ]
     },
     "metadata": {},
     "output_type": "display_data"
    }
   ],
   "source": [
    "fig = plt.figure(figsize=(6,6));\n",
    "plt.scatter(X1_new,X2_new,label='within 95% confidence interval');\n",
    "plt.scatter(X1_outliers,X2_outliers, label='outliers');\n",
    "plt.legend()\n",
    "plt.xlim(0,40);\n",
    "plt.ylim(0,40);"
   ]
  }
 ],
 "metadata": {
  "kernelspec": {
   "display_name": "Python [conda root]",
   "language": "python",
   "name": "conda-root-py"
  },
  "language_info": {
   "codemirror_mode": {
    "name": "ipython",
    "version": 3
   },
   "file_extension": ".py",
   "mimetype": "text/x-python",
   "name": "python",
   "nbconvert_exporter": "python",
   "pygments_lexer": "ipython3",
   "version": "3.5.3"
  }
 },
 "nbformat": 4,
 "nbformat_minor": 2
}
