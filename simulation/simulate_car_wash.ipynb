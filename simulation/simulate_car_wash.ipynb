{
 "cells": [
  {
   "cell_type": "code",
   "execution_count": 1,
   "metadata": {
    "collapsed": true
   },
   "outputs": [],
   "source": [
    "# import libaries\n",
    "import matplotlib.pyplot as plt\n",
    "import numpy as np\n",
    "import seaborn as sns"
   ]
  },
  {
   "cell_type": "markdown",
   "metadata": {},
   "source": [
    "# Set Simulation Parameters"
   ]
  },
  {
   "cell_type": "markdown",
   "metadata": {},
   "source": [
    "Andy Johnson has rented a large industrial hall where he is running a car washing business. His expenses (including rent etc.) are 120 € per day. Currently he employs three (equally efficient and good) workers to whom he (in addition to above expenses) pays an hourly wage of 15 € per person"
   ]
  },
  {
   "cell_type": "code",
   "execution_count": 2,
   "metadata": {
    "collapsed": true
   },
   "outputs": [],
   "source": [
    "# set simulation parameters\n",
    "daily_expenses=120\n",
    "hour_wage=15"
   ]
  },
  {
   "cell_type": "markdown",
   "metadata": {},
   "source": [
    "The washing process involves three stages: 1.\n",
    "- hand washing ($X_1$)\n",
    "- drying ($X_2$)\n",
    "- waxing ($X_3$)\n",
    "\n",
    "Each employee takes care of one stage, and the stages have to be handled in this order for each car, therefore cars may have to wait at each stage if the corresponding worker is busy.\n",
    "\n",
    "Andy has estimated that the service times (in minutes) for each stage are independent of each other and vary according to normal distribution as follows:\n",
    "- $X_1∼N(8, 2^2)$\n",
    "- $X_2∼N(5, 1^2)$\n",
    "- $X_3∼N(6, 1.5^2)$\n",
    "\n",
    "The inter-arrival times between cars follow exponential distribution with 6 cars per hour on average. Andy is charging the customers 18 € per car wash."
   ]
  },
  {
   "cell_type": "code",
   "execution_count": 3,
   "metadata": {
    "collapsed": true
   },
   "outputs": [],
   "source": [
    "# set washing time parameters\n",
    "wash_mu = 8\n",
    "wash_sigma = 2\n",
    "\n",
    "# set drying time parameters\n",
    "dry_mu = 5\n",
    "dry_sigma = 1\n",
    "\n",
    "# set waxing time parameters\n",
    "wax_mu = 6\n",
    "wax_sigma = 1.5\n",
    "\n",
    "# set lambda parameter: 6 cars per hour\n",
    "lam = 6\n",
    "\n",
    "# set price per customer: 18 euros\n",
    "price = 18"
   ]
  },
  {
   "cell_type": "markdown",
   "metadata": {},
   "source": [
    "One working day is assumed to be 8 am-16 pm, i.e. 8 hours. The workers are always paid for 8 hours a day but all customers who start the service before 3:40 pm are served. Any customer waiting in line at 3:40 will get a discount coupon worth 3 €. However, no customers will be accepted to the waiting line after 3:00 pm."
   ]
  },
  {
   "cell_type": "code",
   "execution_count": 4,
   "metadata": {
    "collapsed": true
   },
   "outputs": [],
   "source": [
    "# number of workers, hours per worker, and cost of voucher\n",
    "workers = 3\n",
    "daily_hours = 8\n",
    "voucher_cost = 3"
   ]
  },
  {
   "cell_type": "code",
   "execution_count": 5,
   "metadata": {
    "collapsed": true
   },
   "outputs": [],
   "source": [
    "# set time to start: 8:00am\n",
    "start = np.datetime64('2018-03-20T08:00:00')"
   ]
  },
  {
   "cell_type": "markdown",
   "metadata": {},
   "source": [
    "# Setup Simulation"
   ]
  },
  {
   "cell_type": "code",
   "execution_count": 6,
   "metadata": {
    "collapsed": true
   },
   "outputs": [],
   "source": [
    "# set numpy random state so repeatable results\n",
    "np.random.seed(42)"
   ]
  },
  {
   "cell_type": "code",
   "execution_count": 7,
   "metadata": {
    "collapsed": true
   },
   "outputs": [],
   "source": [
    "# define number of people in day to sample\n",
    "samples=80"
   ]
  },
  {
   "cell_type": "markdown",
   "metadata": {},
   "source": [
    "Function for simulating arrival times:"
   ]
  },
  {
   "cell_type": "code",
   "execution_count": 8,
   "metadata": {
    "collapsed": true
   },
   "outputs": [],
   "source": [
    "# define a function to simulate the customer arrival times\n",
    "def arrival_times(lam,samples,start):\n",
    "    \n",
    "    # simulate inter-arrival times in seconds (multiply by 3600 and take ceiling)\n",
    "    inter_arrivals=np.ceil(np.random.exponential(scale=1/lam,size=samples)*3600).astype(int)\n",
    "    \n",
    "    # arrival time seconds after start\n",
    "    arrivals=np.cumsum(inter_arrivals)\n",
    "    \n",
    "    # derive arrival time of customer from start time + seconds arrived after start\n",
    "    arrival_time=np.array([start + int(arrival) for arrival in arrivals])\n",
    "    \n",
    "    return arrival_time"
   ]
  },
  {
   "cell_type": "markdown",
   "metadata": {},
   "source": [
    "Function for simulating service times:"
   ]
  },
  {
   "cell_type": "code",
   "execution_count": 9,
   "metadata": {
    "collapsed": true
   },
   "outputs": [],
   "source": [
    "# define a function to simulate the customer service times\n",
    "def service_times(mu,sigma,samples):\n",
    "    \n",
    "    # simulate service times in seconds (multiply *60 and take ceiling)\n",
    "    X=np.ceil(np.random.normal(mu,sigma,samples)*60).astype(int)\n",
    "    \n",
    "    return X    "
   ]
  },
  {
   "cell_type": "markdown",
   "metadata": {},
   "source": [
    "Function for calculating times that customer is serviced (start/end):"
   ]
  },
  {
   "cell_type": "code",
   "execution_count": 10,
   "metadata": {
    "collapsed": true
   },
   "outputs": [],
   "source": [
    "# define a function to calculate the start and end times for each service (wash, dry, wax)\n",
    "def calculate_times(customer_num,arrival,end_array,service_time):\n",
    "    \n",
    "    # set start time to arrival (if staff free) else when the last customer finished\n",
    "    start = max(arrival,end_array[customer_num-1])\n",
    "    \n",
    "    # set end time to start time + service time\n",
    "    end = start + service_time[customer_num]\n",
    "    \n",
    "    return start, end"
   ]
  },
  {
   "cell_type": "markdown",
   "metadata": {},
   "source": [
    "Function to simulate one day:"
   ]
  },
  {
   "cell_type": "code",
   "execution_count": 11,
   "metadata": {
    "collapsed": true
   },
   "outputs": [],
   "source": [
    "# define a function to simulate one dayt at the car wash\n",
    "def sim_one_day(lam,samples,start,X1_mu,X2_mu,X3_mu,X1_sigma,X2_sigma,X3_sigma,price,\n",
    "                voucher_cost,workers,daily_hours,hour_wage,daily_expenses):\n",
    "    \n",
    "    # simulate arrival times\n",
    "    arrival_time=arrival_times(lam,samples,start)\n",
    "    \n",
    "    # simulate service times\n",
    "    X1=service_times(X1_mu,X1_sigma,samples)\n",
    "    X2=service_times(X2_mu,X2_sigma,samples)\n",
    "    X3=service_times(X3_mu,X3_sigma,samples)\n",
    "    \n",
    "    # set start and end times for the first customer\n",
    "    wash_start = arrival_time[0]\n",
    "    wash_end = wash_start+X1[0]\n",
    "    dry_start = wash_end\n",
    "    dry_end = dry_start + X2[0]\n",
    "    wax_start = dry_end\n",
    "    wax_end = wax_start + X3[0]\n",
    "    \n",
    "    # initilise empty arrays for storing the start and end times for the customers\n",
    "    washing_start = np.empty(samples, dtype='datetime64[s]')\n",
    "    washing_end = np.empty(samples, dtype='datetime64[s]')\n",
    "    drying_start = np.empty(samples, dtype='datetime64[s]')\n",
    "    drying_end = np.empty(samples, dtype='datetime64[s]')\n",
    "    waxing_start = np.empty(samples, dtype='datetime64[s]')\n",
    "    waxing_end = np.empty(samples, dtype='datetime64[s]')\n",
    "    \n",
    "    # set the start times in the arrays for the first customer\n",
    "    washing_start[0] = wash_start\n",
    "    washing_end[0] = wash_end\n",
    "    drying_start[0] = dry_start\n",
    "    drying_end[0] = dry_end\n",
    "    waxing_start[0] = wax_start\n",
    "    waxing_end[0] = wax_end\n",
    "    \n",
    "    #### LOOP THROUGH CUSTOMERS AND CALCULATE TIMES\n",
    "    \n",
    "    for customer in range(1,samples):\n",
    "        \n",
    "        # Set arrival time at car wash\n",
    "        arrival=arrival_time[customer]\n",
    "    \n",
    "        # calculate wash start and end times\n",
    "        wash_start, wash_end = calculate_times(customer,arrival,end_array=washing_end,service_time=X1)\n",
    "        washing_start[customer]=wash_start\n",
    "        washing_end[customer]=wash_end\n",
    "    \n",
    "        # Calculate dry start and end times\n",
    "        dry_start, dry_end = calculate_times(customer,arrival=wash_end,end_array=drying_end,service_time=X2)\n",
    "        drying_start[customer]=dry_start\n",
    "        drying_end[customer]=dry_end\n",
    "    \n",
    "        # Calculate wax start and end times\n",
    "        wax_start, wax_end = calculate_times(customer,arrival=dry_end,end_array=waxing_end,service_time=X3)\n",
    "        waxing_start[customer]=wax_start\n",
    "        waxing_end[customer]=wax_end\n",
    "\n",
    "    #### BOOLEANS FOR WHETHER ACCEPTED AND SERVED\n",
    "\n",
    "    # mask: customers waiting for the wash to start\n",
    "    waiting_customers = washing_start>arrival_time\n",
    "    \n",
    "    # mask: customers arriving before 3\n",
    "    arrival_before_3 = arrival_time<np.datetime64('2018-03-20T15:00:00')\n",
    "    \n",
    "    # mask: customers getting a wash before 3:40\n",
    "    wash_before_3_40 = washing_start<np.datetime64('2018-03-20T15:40:00')\n",
    "    \n",
    "    # customers accepted: i.e. arrival before 3 or arrived between 3:00:3:40 and not waiting\n",
    "    accepted = (arrival_before_3)|(~arrival_before_3&wash_before_3_40&~waiting_customers)\n",
    "    \n",
    "    # customesr served: i.e. accepted + start before 3:40\n",
    "    served = (accepted&wash_before_3_40)\n",
    "    \n",
    "    # customers given voucher for those waiting in line at 3:40: i.e. accepted but not served\n",
    "    voucher=(accepted==True)&(served==False)\n",
    "    \n",
    "    #### CALCULATE METRICS\n",
    "    \n",
    "    # calculate profit\n",
    "    profit = np.sum((served*price)-(voucher*voucher_cost))-(workers*daily_hours*hour_wage)-daily_expenses\n",
    "    \n",
    "    # calculate average total waiting time (time not being served at each of the stations)\n",
    "    wait_time = np.mean((washing_start-arrival_time) + (drying_start-washing_end) \n",
    "                        + (waxing_start-drying_end)).astype('timedelta64[m]').astype(int)\n",
    "    \n",
    "    # customer served\n",
    "    customers_served = served.sum()\n",
    "    \n",
    "    # vouchers given\n",
    "    vouchers_given = voucher.sum()\n",
    "    \n",
    "    return profit, wait_time, customers_served, vouchers_given  "
   ]
  },
  {
   "cell_type": "markdown",
   "metadata": {},
   "source": [
    "Function to simulate many days:"
   ]
  },
  {
   "cell_type": "code",
   "execution_count": 12,
   "metadata": {
    "collapsed": true
   },
   "outputs": [],
   "source": [
    "def sim_multi(days,lam,samples,start,wash_mu,dry_mu,wax_mu,wash_sigma,dry_sigma,wax_sigma,price,\n",
    "              voucher_cost,workers,daily_hours,hour_wage,daily_expenses):\n",
    "    results=np.zeros((days,4))    \n",
    "    for day in range (0,days):\n",
    "        results[day,0], results[day,1], results[day,2], results[day,3] = sim_one_day(lam,samples,start,wash_mu,dry_mu,\n",
    "                                                                                     wax_mu,wash_sigma,dry_sigma,wax_sigma,\n",
    "                                                                                     price,voucher_cost,workers,daily_hours,\n",
    "                                                                                     hour_wage,daily_expenses)\n",
    "    return results"
   ]
  },
  {
   "cell_type": "markdown",
   "metadata": {},
   "source": [
    "# Simulate and visualise"
   ]
  },
  {
   "cell_type": "code",
   "execution_count": 13,
   "metadata": {
    "collapsed": true
   },
   "outputs": [],
   "source": [
    "# Simulate 1000 days\n",
    "results = sim_multi(1000,lam,samples,start,wash_mu,dry_mu,wax_mu,wash_sigma,dry_sigma,wax_sigma,price,\n",
    "                    voucher_cost,workers,daily_hours,hour_wage,daily_expenses)"
   ]
  },
  {
   "cell_type": "code",
   "execution_count": 14,
   "metadata": {},
   "outputs": [
    {
     "name": "stdout",
     "output_type": "stream",
     "text": [
      "Mean profit: 289.224\n",
      "Mean total wait time (mins): 13.847\n",
      "Mean customers served: 42.763\n",
      "Mean vouchers given: 0.17\n"
     ]
    }
   ],
   "source": [
    "print('Mean profit:',results[:,0].mean())\n",
    "print('Mean total wait time (mins):',results[:,1].mean())\n",
    "print('Mean customers served:',results[:,2].mean())\n",
    "print('Mean vouchers given:',results[:,3].mean())"
   ]
  },
  {
   "cell_type": "code",
   "execution_count": 15,
   "metadata": {},
   "outputs": [
    {
     "data": {
      "image/png": "[encoded data removed]",
      "text/plain": [
       "<matplotlib.figure.Figure at 0x16e53269898>"
      ]
     },
     "metadata": {},
     "output_type": "display_data"
    }
   ],
   "source": [
    "# set font size of charts\n",
    "sns.set(font_scale=2)\n",
    "\n",
    "# plot simulated sales\n",
    "plt.subplot(2,2,1);\n",
    "plt.hist(results[:,0],bins=30);\n",
    "plt.xlabel('Profit');\n",
    "\n",
    "plt.subplot(2,2,2);\n",
    "plt.hist(results[:,1],bins=50);\n",
    "plt.xlabel('Average weight time');\n",
    "\n",
    "plt.subplot(2,2,3);\n",
    "plt.hist(results[:,2],bins=30);\n",
    "plt.xlabel('Customers served');\n",
    "\n",
    "plt.subplot(2,2,4);\n",
    "plt.hist(results[:,3],bins=20);\n",
    "plt.xlabel('Vouchers given');\n",
    "\n",
    "plt.subplots_adjust(left=None, bottom=None, right=2, top=2,wspace=None, hspace=None)\n",
    "plt.show()"
   ]
  }
 ],
 "metadata": {
  "kernelspec": {
   "display_name": "Python [conda root]",
   "language": "python",
   "name": "conda-root-py"
  },
  "language_info": {
   "codemirror_mode": {
    "name": "ipython",
    "version": 3
   },
   "file_extension": ".py",
   "mimetype": "text/x-python",
   "name": "python",
   "nbconvert_exporter": "python",
   "pygments_lexer": "ipython3",
   "version": "3.5.3"
  }
 },
 "nbformat": 4,
 "nbformat_minor": 2
}
