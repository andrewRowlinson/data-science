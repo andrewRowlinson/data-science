{
 "cells": [
  {
   "cell_type": "markdown",
   "metadata": {},
   "source": [
    "## Nadaraya-Watson Estimator (one dimensional example)"
   ]
  },
  {
   "cell_type": "markdown",
   "metadata": {},
   "source": [
    "Import packages for working with numpy arrays and plot"
   ]
  },
  {
   "cell_type": "code",
   "execution_count": 149,
   "metadata": {
    "collapsed": true
   },
   "outputs": [],
   "source": [
    "# import numpy / numpy modules\n",
    "import numpy as np\n",
    "# import matplotlib (pyplot)\n",
    "import matplotlib.pyplot as plt "
   ]
  },
  {
   "cell_type": "markdown",
   "metadata": {},
   "source": [
    "Define datasets x and y training data."
   ]
  },
  {
   "cell_type": "code",
   "execution_count": 150,
   "metadata": {
    "collapsed": true
   },
   "outputs": [],
   "source": [
    "xTrain = np.array([108,120,84,79,128,126,111,103,122,119])\n",
    "yTrain = np.array([211,271,121,31,341,401,241,181,301,301])\n",
    "# find length of xTrain = 10\n",
    "n=(xTrain.shape[0])\n",
    "# reshape xTrain to XTrain column vector\n",
    "XTrain = xTrain.reshape(n,1)"
   ]
  },
  {
   "cell_type": "markdown",
   "metadata": {},
   "source": [
    "Plot data:"
   ]
  },
  {
   "cell_type": "code",
   "execution_count": 151,
   "metadata": {},
   "outputs": [
    {
     "data": {
      "image/png": "[encoded data removed]",
      "text/plain": [
       "<matplotlib.figure.Figure at 0x221425b0c88>"
      ]
     },
     "metadata": {},
     "output_type": "display_data"
    }
   ],
   "source": [
    "plt.scatter(xTrain, yTrain)\n",
    "plt.xlim(0,140);\n",
    "plt.ylim(0,450);\n",
    "plt.xlabel('x');\n",
    "plt.ylabel('y');\n",
    "plt.show()"
   ]
  },
  {
   "cell_type": "markdown",
   "metadata": {},
   "source": [
    "Kernels measure the similarities of\n",
    "neighbouring points. A common kernel is the gaussian kernel defined as:\n",
    "\\begin{equation}\n",
    "K_\\sigma(x, x^{(i)}) = \\exp \\Bigg( -\\frac{1}{2} \\frac{(x-x^{(i)})^2 }{\\sigma^2} \\Bigg).\n",
    "\\end{equation}\n",
    "\n",
    "The Nadaraya-Watson estimator uses a scaled version of the gaussian kernel where all rows sum to 1.\n",
    "\\begin{equation}\n",
    "\\frac{K_\\sigma(x,x^{(i)})}{\\sum_{l=1}^{N} K_\\sigma (x,x^{(l)})}\n",
    "\\end{equation}\n",
    "\n",
    "This scaled gaussian kernel is calculated below:"
   ]
  },
  {
   "cell_type": "code",
   "execution_count": 152,
   "metadata": {
    "collapsed": true
   },
   "outputs": [],
   "source": [
    "# creates a vector which measures the similarility between two vectors\n",
    "def gauss_kernel_scaled(x, X, s):\n",
    "    d = np.sum((X-x)**2, axis=1)\n",
    "    k = np.exp(-0.5/s**2*d)\n",
    "    if np.sum(k)!=0:     \n",
    "        return k/np.sum(k) #scale so output vector sums to one.\n",
    "    else:\n",
    "        return k"
   ]
  },
  {
   "cell_type": "markdown",
   "metadata": {},
   "source": [
    "The Nadaraya-Watson Estimator is then:\n",
    "\n",
    "\\begin{equation}\n",
    "h^{(\\sigma)} (x) = \\sum_{i=1}^{n} y^{(i)} \\frac{K_\\sigma(x,x^{(i)})}{\\sum_{l=1}^{n} K_\\sigma (x,x^{(l)})}\n",
    "\\end{equation}\n",
    "\n",
    "This is implemented in a for loop, which calculates the estimator for a range of different x values. First a vector of xs is created (xTest) and iterated through. For each x in xTest, the scaled gaussian kernel vector is created (k). The dot product of k and the yTrain data then calculates the Nadaraya-Watson Estimator, which is stored in yTest."
   ]
  },
  {
   "cell_type": "code",
   "execution_count": 153,
   "metadata": {
    "collapsed": true
   },
   "outputs": [],
   "source": [
    "# Creates Nadaraya-Watson estimator for N equally spaced x points from xstart to xend\n",
    "def NW(xtrain,ytrain,s,xstart,xend,N):\n",
    "    xTest = np.linspace(xstart,xend, N) #initiliase xTest wtih N equally spaced points from xstart to xend\n",
    "    xTest = xTest.reshape(N,1) #reshape xTest to column vector\n",
    "    yTest = np.zeros(N) #initialise yTest output data with N zeros\n",
    "    for i in range(N):\n",
    "        k = gauss_kernel_scaled(xTest[i,:], xtrain, s) #creates a scaled gaussian kernel with n entries measuring similarility\n",
    "        yTest[i] = np.dot(k,yTrain.reshape(10,1))\n",
    "    return xTest, yTest"
   ]
  },
  {
   "cell_type": "markdown",
   "metadata": {},
   "source": [
    "Calculate and plot Nadaraya-Watson estimator for $\\sigma$ = 1,5,10"
   ]
  },
  {
   "cell_type": "code",
   "execution_count": 154,
   "metadata": {},
   "outputs": [
    {
     "data": {
      "image/png": "[encoded data removed]",
      "text/plain": [
       "<matplotlib.figure.Figure at 0x221412d7080>"
      ]
     },
     "metadata": {},
     "output_type": "display_data"
    }
   ],
   "source": [
    "# Calculate Nadaraya-Watson estimator for different sigmas\n",
    "xNW_s1, yNW_s1 = NW(XTrain,yTrain,1,60,150,400)\n",
    "xNW_s5, yNW_s5 = NW(XTrain,yTrain,5,60,150,400)\n",
    "xNW_s10, yNW_s10 = NW(XTrain,yTrain,10,60,150,400)\n",
    "\n",
    "# Create chart with original points and Nadaraya-Watson estimators\n",
    "plt.scatter(xTrain, yTrain, color='r', marker='o')\n",
    "plt.plot(xNW_s1, yNW_s1, 'b-', label='$\\sigma$=1')\n",
    "plt.plot(xNW_s5, yNW_s5, 'y-', label='$\\sigma$=5')\n",
    "plt.plot(xNW_s10, yNW_s10, 'g-', label='$\\sigma$=10')\n",
    "plt.xlim(60,150);\n",
    "plt.ylim(0,450);\n",
    "plt.legend();\n",
    "plt.show()"
   ]
  }
 ],
 "metadata": {
  "kernelspec": {
   "display_name": "Python [conda root]",
   "language": "python",
   "name": "conda-root-py"
  },
  "language_info": {
   "codemirror_mode": {
    "name": "ipython",
    "version": 3
   },
   "file_extension": ".py",
   "mimetype": "text/x-python",
   "name": "python",
   "nbconvert_exporter": "python",
   "pygments_lexer": "ipython3",
   "version": "3.5.3"
  }
 },
 "nbformat": 4,
 "nbformat_minor": 2
}
