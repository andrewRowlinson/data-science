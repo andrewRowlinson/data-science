{
 "cells": [
  {
   "cell_type": "markdown",
   "metadata": {},
   "source": [
    "# K-nearest neighbours"
   ]
  },
  {
   "cell_type": "markdown",
   "metadata": {},
   "source": [
    "This implementation of k-nearest neighbours uses Jake Vanderplas' excellent Python Data Science Handbook. The example is here: (https://jakevdp.github.io/PythonDataScienceHandbook/02.08-sorting.html).\n",
    "\n",
    "It uses broadcasting and row-wise sorting, which is more computational efficient than writing a loop."
   ]
  },
  {
   "cell_type": "markdown",
   "metadata": {},
   "source": [
    "# Generate dummy data"
   ]
  },
  {
   "cell_type": "code",
   "execution_count": 1,
   "metadata": {
    "collapsed": true
   },
   "outputs": [],
   "source": [
    "# import numpy\n",
    "import numpy as np\n",
    "# import matplotlib\n",
    "import matplotlib.pyplot as plt\n",
    "# import seaborn\n",
    "import seaborn as sns\n",
    "# set to plot automatically\n",
    "%matplotlib inline"
   ]
  },
  {
   "cell_type": "code",
   "execution_count": 2,
   "metadata": {
    "collapsed": true
   },
   "outputs": [],
   "source": [
    "# set random state so repeatable results\n",
    "np.random.seed(42)"
   ]
  },
  {
   "cell_type": "code",
   "execution_count": 3,
   "metadata": {
    "collapsed": true
   },
   "outputs": [],
   "source": [
    "# Generate random set of 10 points from U(0,1)\n",
    "X = np.random.uniform(0,1,size=(10,2))"
   ]
  },
  {
   "cell_type": "code",
   "execution_count": 4,
   "metadata": {},
   "outputs": [
    {
     "data": {
      "image/png": "[encoded data removed]",
      "text/plain": [
       "<matplotlib.figure.Figure at 0x1a2fea63a20>"
      ]
     },
     "metadata": {},
     "output_type": "display_data"
    }
   ],
   "source": [
    "plt.scatter(X[:,0],X[:,1]);\n",
    "plt.xlim(0,1);\n",
    "plt.ylim(0,1);"
   ]
  },
  {
   "cell_type": "markdown",
   "metadata": {},
   "source": [
    "# Compute squared distances between points"
   ]
  },
  {
   "cell_type": "markdown",
   "metadata": {},
   "source": [
    "Numpy's new axis can convert the two-dimensional X-array into a three-dimensional array by making use of the newaxis keyword within a slice operation."
   ]
  },
  {
   "cell_type": "code",
   "execution_count": 5,
   "metadata": {},
   "outputs": [
    {
     "name": "stdout",
     "output_type": "stream",
     "text": [
      "(10, 2)\n",
      "(10, 1, 2)\n",
      "(1, 10, 2)\n"
     ]
    }
   ],
   "source": [
    "# shape of initial X matrix\n",
    "print(X.shape)\n",
    "# shape of X axis with an axis added to the second dimension\n",
    "print((X[:, np.newaxis, :]).shape)\n",
    "# shape of X axis with an axis added to the first dimension\n",
    "print(X[np.newaxis, :, :].shape)"
   ]
  },
  {
   "cell_type": "markdown",
   "metadata": {},
   "source": [
    "Numpy's newaxis can be used to calculate the differences between each pair of points via numpy's broadcasting rules. These allow the subtraction to be performed on arrays of different sizes.  The dimension with only 1 value is stetched to meet the shape of the other (10 values) for both the first and second dimension. This creates an array with shape (10,10,2) as the first and second dimension ahs been stretched to length 10."
   ]
  },
  {
   "cell_type": "code",
   "execution_count": 6,
   "metadata": {},
   "outputs": [
    {
     "name": "stdout",
     "output_type": "stream",
     "text": [
      "(10, 10, 2)\n"
     ]
    }
   ],
   "source": [
    "# for each pair of points, compute differences in their coordinates\n",
    "# this uses numpys broadcast rules and creates an array of shape (10,10,2)\n",
    "differences = X[:, np.newaxis, :] - X[np.newaxis, :, :]\n",
    "print(differences.shape)"
   ]
  },
  {
   "cell_type": "code",
   "execution_count": 7,
   "metadata": {},
   "outputs": [
    {
     "data": {
      "text/plain": [
       "(10, 10, 2)"
      ]
     },
     "execution_count": 7,
     "metadata": {},
     "output_type": "execute_result"
    }
   ],
   "source": [
    "# then square the differences\n",
    "sq_differences = differences ** 2\n",
    "sq_differences.shape"
   ]
  },
  {
   "cell_type": "code",
   "execution_count": 8,
   "metadata": {},
   "outputs": [
    {
     "data": {
      "text/plain": [
       "(10, 10)"
      ]
     },
     "execution_count": 8,
     "metadata": {},
     "output_type": "execute_result"
    }
   ],
   "source": [
    "# then sum the differences to get the squared distance\n",
    "dist_sq = np.sum(sq_differences,axis=2)\n",
    "dist_sq.shape"
   ]
  },
  {
   "cell_type": "markdown",
   "metadata": {},
   "source": [
    "You can check that it works by looking at the digaonal, which is the distances between each point and itself and should be zero:"
   ]
  },
  {
   "cell_type": "code",
   "execution_count": 9,
   "metadata": {},
   "outputs": [
    {
     "name": "stdout",
     "output_type": "stream",
     "text": [
      "[ 0.  0.  0.  0.  0.  0.  0.  0.  0.  0.]\n"
     ]
    }
   ],
   "source": [
    "print(dist_sq.diagonal())"
   ]
  },
  {
   "cell_type": "markdown",
   "metadata": {},
   "source": [
    "# Find nearest neighbours using argsort or argpartition"
   ]
  },
  {
   "cell_type": "markdown",
   "metadata": {},
   "source": [
    "argsort can then be used to sort along each row. This gives the index of the nearest neighbour. The left most-column gives the numbers 0-9 in that order due to the fact that each point's closet neighbour is itself."
   ]
  },
  {
   "cell_type": "code",
   "execution_count": 10,
   "metadata": {},
   "outputs": [
    {
     "name": "stdout",
     "output_type": "stream",
     "text": [
      "[[0 3 4 5 8 1 9 7 2 6]\n",
      " [1 4 6 9 8 0 7 3 2 5]\n",
      " [2 7 9 8 6 4 3 1 0 5]\n",
      " [3 5 0 8 4 9 7 2 1 6]\n",
      " [4 1 0 8 9 6 3 5 7 2]\n",
      " [5 3 0 8 4 9 1 7 2 6]\n",
      " [6 1 9 4 8 7 2 0 3 5]\n",
      " [7 2 9 8 6 4 1 3 0 5]\n",
      " [8 9 4 7 2 3 0 1 5 6]\n",
      " [9 8 7 2 6 1 4 0 3 5]]\n"
     ]
    }
   ],
   "source": [
    "# one way of finding the nearest neighbours is to sort the elements row-wise\n",
    "nearest = np.argsort(dist_sq, axis=1)\n",
    "print(nearest)"
   ]
  },
  {
   "cell_type": "markdown",
   "metadata": {},
   "source": [
    "We can find the k-nearest neightbours by partioning each row so that the smallest k+1 squared distances come first. argpartition performs an indirect partition along the given axis. It returns an array of indices of the same shape as a that index data along the given axis in partitioned order. The k-th element will be in its final sorted position and all smaller elements will be moved before it and all larger elements behind it.\n",
    "\n",
    "Note we need k+1 as one of the elements is the point itself."
   ]
  },
  {
   "cell_type": "code",
   "execution_count": 11,
   "metadata": {},
   "outputs": [
    {
     "name": "stdout",
     "output_type": "stream",
     "text": [
      "[[3 0 4 5 8 9 1 7 2 6]\n",
      " [1 4 6 9 3 5 2 7 8 0]\n",
      " [2 7 9 8 6 4 5 1 3 0]\n",
      " [3 5 0 8 4 1 6 7 2 9]\n",
      " [1 4 0 8 9 6 2 7 5 3]\n",
      " [5 3 0 8 4 1 6 7 2 9]\n",
      " [1 9 6 4 3 5 2 7 8 0]\n",
      " [7 2 9 8 6 4 5 1 3 0]\n",
      " [8 9 4 7 2 3 0 1 5 6]\n",
      " [8 7 9 2 1 6 4 5 3 0]]\n"
     ]
    }
   ],
   "source": [
    "# partioning is more efficient though as we don't technically need to sort the elements after k\n",
    "K = 2\n",
    "nearest_partition = np.argpartition(dist_sq, K + 1, axis=1)\n",
    "print(nearest_partition)"
   ]
  },
  {
   "cell_type": "markdown",
   "metadata": {},
   "source": [
    "# Visualize"
   ]
  },
  {
   "cell_type": "code",
   "execution_count": 12,
   "metadata": {},
   "outputs": [
    {
     "data": {
      "image/png": "[encoded data removed]",
      "text/plain": [
       "<matplotlib.figure.Figure at 0x1a2fee96a20>"
      ]
     },
     "metadata": {},
     "output_type": "display_data"
    }
   ],
   "source": [
    "# first plot the points\n",
    "plt.scatter(X[:,0],X[:,1],s=100); # s sets the size of the points\n",
    "plt.xlim(0,1);\n",
    "plt.ylim(0,1);\n",
    "\n",
    "# then draw lines from each point to its two nearest neighbors\n",
    "for i in range(X.shape[0]):\n",
    "    for j in nearest_partition[i, :K+1]:\n",
    "        # plot a line from X[i] to X[j]\n",
    "        # use some zip magic to make it happen:\n",
    "        plt.plot(*zip(X[j], X[i]), color='black')"
   ]
  }
 ],
 "metadata": {
  "kernelspec": {
   "display_name": "Python [conda root]",
   "language": "python",
   "name": "conda-root-py"
  },
  "language_info": {
   "codemirror_mode": {
    "name": "ipython",
    "version": 3
   },
   "file_extension": ".py",
   "mimetype": "text/x-python",
   "name": "python",
   "nbconvert_exporter": "python",
   "pygments_lexer": "ipython3",
   "version": "3.5.3"
  }
 },
 "nbformat": 4,
 "nbformat_minor": 2
}
