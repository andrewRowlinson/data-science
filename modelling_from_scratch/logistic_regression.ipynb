{
 "cells": [
  {
   "cell_type": "markdown",
   "metadata": {},
   "source": [
    "# Logistic regression two ways"
   ]
  },
  {
   "cell_type": "markdown",
   "metadata": {},
   "source": [
    "This notebook seeks to implement logistic regression in two ways: <br>\n",
    "- sci-kit learn implementation <br>\n",
    "- gradient descent implementation - using numpy arrays <br>\n",
    "<br>\n",
    "It uses the whole of the iris dataset."
   ]
  },
  {
   "cell_type": "markdown",
   "metadata": {},
   "source": [
    "The setup for logistic regression is:\n",
    "<br>\n",
    "\n",
    "$\n",
    "\\begin{align}\n",
    "Hypothesis: h(x) = \\frac{1}{1+e^{-\\sum_{j=1}^{n}\\theta_jx_j}}\n",
    "\\end{align}\n",
    "$\n",
    "\n",
    "$\n",
    "\\begin{align}\n",
    "Cost: J(\\theta) = -\\frac{1}{m}\\sum_{i=1}^{m} y^{(i)}(log(h_\\theta(x^{i})) + (1-y^{(i)})log(1-h_\\theta(x^{(i)}))\n",
    "\\end{align}\n",
    "$"
   ]
  },
  {
   "cell_type": "markdown",
   "metadata": {},
   "source": [
    "# Import libaries"
   ]
  },
  {
   "cell_type": "markdown",
   "metadata": {},
   "source": [
    "Load the libaries needed for multiple regression"
   ]
  },
  {
   "cell_type": "code",
   "execution_count": 1,
   "metadata": {
    "collapsed": true
   },
   "outputs": [],
   "source": [
    "import numpy as np\n",
    "from sklearn import datasets\n",
    "from sklearn import linear_model\n",
    "import matplotlib.pyplot as plt\n",
    "import seaborn as sns\n",
    "from sklearn.metrics import accuracy_score, log_loss\n",
    "from sklearn.preprocessing import StandardScaler"
   ]
  },
  {
   "cell_type": "markdown",
   "metadata": {},
   "source": [
    "# Setup chart settings"
   ]
  },
  {
   "cell_type": "code",
   "execution_count": 2,
   "metadata": {
    "collapsed": true
   },
   "outputs": [],
   "source": [
    "# plot charts automatically\n",
    "%matplotlib inline\n",
    "# define plot styles\n",
    "sns.set(font_scale=2)\n",
    "sns.set_style(\"darkgrid\")"
   ]
  },
  {
   "cell_type": "markdown",
   "metadata": {},
   "source": [
    "# Import datasets"
   ]
  },
  {
   "cell_type": "markdown",
   "metadata": {},
   "source": [
    "Load and return the boston house-prices dataset (regression)."
   ]
  },
  {
   "cell_type": "code",
   "execution_count": 3,
   "metadata": {
    "collapsed": true
   },
   "outputs": [],
   "source": [
    "# import iris dataset from sklearn and create X features and y vector\n",
    "iris = datasets.load_iris()\n",
    "y = iris.target\n",
    "X = iris.data"
   ]
  },
  {
   "cell_type": "markdown",
   "metadata": {},
   "source": [
    "Scale data as this is needed for regularization and gradient descent"
   ]
  },
  {
   "cell_type": "code",
   "execution_count": 4,
   "metadata": {
    "collapsed": true
   },
   "outputs": [],
   "source": [
    "# Initiate the standard scaler: scaler\n",
    "scaler = StandardScaler()\n",
    "# Scale data as feature scaling makes gradient descent/ regularization converge more quickly or converge at all\n",
    "X = scaler.fit_transform(X)"
   ]
  },
  {
   "cell_type": "markdown",
   "metadata": {},
   "source": [
    "Check format of data"
   ]
  },
  {
   "cell_type": "code",
   "execution_count": 5,
   "metadata": {},
   "outputs": [
    {
     "name": "stdout",
     "output_type": "stream",
     "text": [
      "(150,) (150, 4)\n"
     ]
    }
   ],
   "source": [
    "# check shape of the data\n",
    "print(y.shape,X.shape)"
   ]
  },
  {
   "cell_type": "code",
   "execution_count": 6,
   "metadata": {},
   "outputs": [
    {
     "data": {
      "text/plain": [
       "array([0, 1, 2])"
      ]
     },
     "execution_count": 6,
     "metadata": {},
     "output_type": "execute_result"
    }
   ],
   "source": [
    "# show unique values in y\n",
    "np.unique(y)"
   ]
  },
  {
   "cell_type": "markdown",
   "metadata": {},
   "source": [
    "Recode to create a binary classification problem from the three type of iris"
   ]
  },
  {
   "cell_type": "code",
   "execution_count": 7,
   "metadata": {},
   "outputs": [
    {
     "name": "stdout",
     "output_type": "stream",
     "text": [
      "['setosa' 'versicolor' 'virginica']\n"
     ]
    }
   ],
   "source": [
    "print(iris.target_names)"
   ]
  },
  {
   "cell_type": "code",
   "execution_count": 8,
   "metadata": {
    "collapsed": true
   },
   "outputs": [],
   "source": [
    "# recode y=0 (setosa) to y=1 (veriscolor and setotsa)\n",
    "y[y==0]=1\n",
    "# recode y=2 to y=0 (virginica)\n",
    "y[y==2]=0"
   ]
  },
  {
   "cell_type": "markdown",
   "metadata": {},
   "source": [
    "# Assign constants and set print conditions"
   ]
  },
  {
   "cell_type": "markdown",
   "metadata": {},
   "source": [
    "Assign constants for the models"
   ]
  },
  {
   "cell_type": "code",
   "execution_count": 9,
   "metadata": {
    "collapsed": true
   },
   "outputs": [],
   "source": [
    "# assign high C for regularization term so will not sci-kit learn will not regularize\n",
    "C=1e15\n",
    "# assign random state\n",
    "random_state=42"
   ]
  },
  {
   "cell_type": "markdown",
   "metadata": {},
   "source": [
    "Set print formats so that numpy arrays do not print in scientific format"
   ]
  },
  {
   "cell_type": "code",
   "execution_count": 10,
   "metadata": {
    "collapsed": true
   },
   "outputs": [],
   "source": [
    "# Set print conditions\n",
    "np.set_printoptions(suppress=True, precision=2) "
   ]
  },
  {
   "cell_type": "markdown",
   "metadata": {},
   "source": [
    "# Logistic Regression"
   ]
  },
  {
   "cell_type": "markdown",
   "metadata": {},
   "source": [
    "### Sci-kit learn"
   ]
  },
  {
   "cell_type": "code",
   "execution_count": 11,
   "metadata": {
    "collapsed": true
   },
   "outputs": [],
   "source": [
    "# Create the classifier: lr\n",
    "lr = linear_model.LogisticRegression(C=C)"
   ]
  },
  {
   "cell_type": "code",
   "execution_count": 12,
   "metadata": {
    "collapsed": true
   },
   "outputs": [],
   "source": [
    "# Fit the model to the data: model\n",
    "model = lr.fit(X, y)"
   ]
  },
  {
   "cell_type": "code",
   "execution_count": 13,
   "metadata": {
    "collapsed": true
   },
   "outputs": [],
   "source": [
    "# Compute predictions for the features: y_pred\n",
    "y_pred = model.predict(X)"
   ]
  },
  {
   "cell_type": "code",
   "execution_count": 14,
   "metadata": {
    "collapsed": true
   },
   "outputs": [],
   "source": [
    "# Compute probabilities for the features: y_prob\n",
    "y_prob = model.predict_proba(X)[:,1]"
   ]
  },
  {
   "cell_type": "code",
   "execution_count": 15,
   "metadata": {},
   "outputs": [
    {
     "name": "stdout",
     "output_type": "stream",
     "text": [
      "Intercept:  [ 20.01]\n"
     ]
    }
   ],
   "source": [
    "# print intercept:\n",
    "print(\"Intercept: \",model.intercept_)"
   ]
  },
  {
   "cell_type": "code",
   "execution_count": 16,
   "metadata": {},
   "outputs": [
    {
     "name": "stdout",
     "output_type": "stream",
     "text": [
      "Coefficients:  [[  2.03   2.88 -16.53 -13.86]]\n"
     ]
    }
   ],
   "source": [
    "# print coefficients:\n",
    "print(\"Coefficients: \",model.coef_)"
   ]
  },
  {
   "cell_type": "code",
   "execution_count": 17,
   "metadata": {},
   "outputs": [
    {
     "name": "stdout",
     "output_type": "stream",
     "text": [
      "Accuracy:  0.986666666667\n"
     ]
    }
   ],
   "source": [
    "# print the accuracy score\n",
    "print(\"Accuracy: \",accuracy_score(y,y_pred))"
   ]
  },
  {
   "cell_type": "code",
   "execution_count": 18,
   "metadata": {},
   "outputs": [
    {
     "name": "stdout",
     "output_type": "stream",
     "text": [
      "Logistic loss:  0.0396620542912\n"
     ]
    }
   ],
   "source": [
    "# print the logistic loss:\n",
    "print(\"Logistic loss: \",log_loss(y,y_prob))"
   ]
  },
  {
   "cell_type": "markdown",
   "metadata": {},
   "source": [
    "### Batch gradient descent"
   ]
  },
  {
   "cell_type": "markdown",
   "metadata": {},
   "source": [
    "The setup for logistic regression is:\n",
    "<br>\n",
    "\n",
    "$\n",
    "\\begin{align}\n",
    "Hypothesis: h(x) = \\frac{1}{1+e^{-\\sum_{j=1}^{n}\\theta_jx_j}}\n",
    "\\end{align}\n",
    "$\n",
    "\n",
    "$\n",
    "\\begin{align}\n",
    "Cost: J(\\theta) = -\\frac{1}{m}\\sum_{i=1}^{m} y^{(i)}(log(h_\\theta(x^{i})) + (1-y^{(i)})log(1-h_\\theta(x^{(i)}))\n",
    "\\end{align}\n",
    "$"
   ]
  },
  {
   "cell_type": "code",
   "execution_count": 19,
   "metadata": {
    "collapsed": true
   },
   "outputs": [],
   "source": [
    "# Add column of 1s to feature matrix, which is needed for the matrix implementation of gradient descent\n",
    "# this adds the intecept to the model\n",
    "X = np.hstack((np.ones((X.shape[0], 1)),X))"
   ]
  },
  {
   "cell_type": "code",
   "execution_count": 20,
   "metadata": {
    "collapsed": true
   },
   "outputs": [],
   "source": [
    "def sigmoid(z):\n",
    "    return 1.0 / (1.0 + np.exp(-z))"
   ]
  },
  {
   "cell_type": "code",
   "execution_count": 21,
   "metadata": {
    "collapsed": true
   },
   "outputs": [],
   "source": [
    "# works same as predict_proba\n",
    "def hypothesis(X,theta):\n",
    "    hx = sigmoid(np.dot(X,theta))\n",
    "    return hx"
   ]
  },
  {
   "cell_type": "code",
   "execution_count": 22,
   "metadata": {
    "collapsed": true
   },
   "outputs": [],
   "source": [
    "# define gradient function that computes the gradient for a given theta\n",
    "def gradient(X,theta,y,m):\n",
    "    hx = hypothesis(X,theta)\n",
    "    error = hx-y\n",
    "    gradient = (1./m)*np.dot(X.T,error)\n",
    "    return gradient"
   ]
  },
  {
   "cell_type": "code",
   "execution_count": 23,
   "metadata": {
    "collapsed": true
   },
   "outputs": [],
   "source": [
    "# define cost function that computes the mean-squared error for given theta\n",
    "def cost(X,theta,y,eps=1e-15):\n",
    "    # calculate size: m\n",
    "    m=y.shape[0]\n",
    "    # Log loss is undefined for p=0 or p=1, so probabilities are clipped to max(eps, min(1 - eps, p)): hx\n",
    "    hx = np.clip(hypothesis(X,theta),eps,1 - eps)\n",
    "    # calculate cost: cost\n",
    "    cost = -(1./m)*(np.dot(y.T, np.log(hx))+np.dot((1-y).T,np.log(1 - hx)))\n",
    "    return cost"
   ]
  },
  {
   "cell_type": "code",
   "execution_count": 24,
   "metadata": {
    "collapsed": true
   },
   "outputs": [],
   "source": [
    "# define gradient descent function, which returns the cost and the final theta estimates for linear regression\n",
    "def gradient_descent(X,y,n_iter,alpha):\n",
    "    \n",
    "    # initilize theta vector to zeros\n",
    "    theta = np.zeros(X.shape[1])\n",
    "    \n",
    "    # initilize  costs vector to store results\n",
    "    costs = np.zeros(n_iter)\n",
    "       \n",
    "    # initilize  m=the number of training examples\n",
    "    m=y.shape[0]\n",
    "    \n",
    "    # perform batch gradient descent a maximum of n_iter times\n",
    "    for i in range(n_iter):\n",
    "        #Save old theta\n",
    "        theta_old = theta     \n",
    "        \n",
    "        # Perform batch update of theta using gradient descent\n",
    "        theta = theta - alpha*gradient(X,theta,y,m)\n",
    "        \n",
    "        # Update costs vector with cost for new theta\n",
    "        costs[i]=cost(X,theta,y)\n",
    "        \n",
    "        # stopping criteria: stop if the norm of the difference in theta is less than 0.000001\n",
    "        epsilon = np.linalg.norm(theta-theta_old, ord=1)\n",
    "        if epsilon<0.000001:\n",
    "            # delete any unused space from vector before stopping\n",
    "            costs = np.delete(costs, range(i+1, n_iter), None)\n",
    "            break             \n",
    "                      \n",
    "        # Divergence test: if the costs start increasing by more than 1 stop and print error\n",
    "        if i>0:\n",
    "            diff = costs[i-1]-costs[i]\n",
    "            if(diff<-1):\n",
    "                raise ValueError('Gradient descent is diverging choose a smaller alpha')\n",
    "                \n",
    "        # Print message if didn't converge in number of iterations\n",
    "        if i+1 == n_iter:\n",
    "            print('Model did not fully convege try picking a higher number of iterations (n_iter) or learning rate (alpha)')\n",
    "            \n",
    "    #return the cost vector and theta\n",
    "    return theta, costs"
   ]
  },
  {
   "cell_type": "code",
   "execution_count": 25,
   "metadata": {
    "collapsed": true
   },
   "outputs": [],
   "source": [
    "# perform gradient descent\n",
    "theta_grad, cost_grad = gradient_descent(X,y,n_iter=100000,alpha=2)"
   ]
  },
  {
   "cell_type": "code",
   "execution_count": 26,
   "metadata": {},
   "outputs": [
    {
     "name": "stdout",
     "output_type": "stream",
     "text": [
      "Intercept:  20.0803584548\n"
     ]
    }
   ],
   "source": [
    "# print intercept:\n",
    "print(\"Intercept: \",theta_grad[0])"
   ]
  },
  {
   "cell_type": "code",
   "execution_count": 27,
   "metadata": {},
   "outputs": [
    {
     "name": "stdout",
     "output_type": "stream",
     "text": [
      "Coefficients:  [  2.03   2.89 -16.58 -13.91]\n"
     ]
    }
   ],
   "source": [
    "# print coefficients\n",
    "print(\"Coefficients: \",theta_grad[1:])"
   ]
  },
  {
   "cell_type": "code",
   "execution_count": 28,
   "metadata": {},
   "outputs": [
    {
     "name": "stdout",
     "output_type": "stream",
     "text": [
      "Accuracy:  0.986666666667\n"
     ]
    }
   ],
   "source": [
    "# make predictions if hypothesis>=0.5 then predict 1, else 0: y_pred_grad\n",
    "y_pred_grad = (hypothesis(X, theta_grad)>=0.5).astype(int)\n",
    "# evaluate accuracy and print\n",
    "print(\"Accuracy: \", np.mean(y_pred_grad==y))"
   ]
  },
  {
   "cell_type": "code",
   "execution_count": 29,
   "metadata": {},
   "outputs": [
    {
     "name": "stdout",
     "output_type": "stream",
     "text": [
      "Cost:  0.0396618236377\n"
     ]
    }
   ],
   "source": [
    "# print the log loss: cost\n",
    "print(\"Cost: \",cost(X,theta_grad,y))"
   ]
  },
  {
   "cell_type": "code",
   "execution_count": 30,
   "metadata": {},
   "outputs": [
    {
     "data": {
      "image/png": "[encoded data removed]",
      "text/plain": [
       "<matplotlib.figure.Figure at 0x1f7b2713908>"
      ]
     },
     "metadata": {},
     "output_type": "display_data"
    }
   ],
   "source": [
    "# Plot cost compared to number of iterations\n",
    "plt.title(\"Convergence with alpha 0.4 learning rate\");\n",
    "plt.plot(cost_grad,color='black', label=\"0.3\");\n",
    "plt.ylabel('Cost/ loss');\n",
    "plt.xlabel('Iterations');"
   ]
  },
  {
   "cell_type": "markdown",
   "metadata": {},
   "source": [
    "# Compare cost/loss of the methods"
   ]
  },
  {
   "cell_type": "code",
   "execution_count": 31,
   "metadata": {},
   "outputs": [
    {
     "name": "stdout",
     "output_type": "stream",
     "text": [
      "Log loss/ cost for sci-kit learn:  0.0396620542912\n",
      "Log loss/ cost for gradient descent:  0.0396618236377\n"
     ]
    }
   ],
   "source": [
    "print(\"Log loss/ cost for sci-kit learn: \",log_loss(y,y_prob))\n",
    "print(\"Log loss/ cost for gradient descent: \",cost_grad[-1])"
   ]
  },
  {
   "cell_type": "markdown",
   "metadata": {},
   "source": [
    "# Compare accuracy of the methods"
   ]
  },
  {
   "cell_type": "code",
   "execution_count": 32,
   "metadata": {},
   "outputs": [
    {
     "name": "stdout",
     "output_type": "stream",
     "text": [
      "Accuracy for sci-kit learn:  0.986666666667\n",
      "Accuracy for gradient descent:  0.986666666667\n"
     ]
    }
   ],
   "source": [
    "print(\"Accuracy for sci-kit learn: \",accuracy_score(y,y_pred))\n",
    "print(\"Accuracy for gradient descent: \", np.mean(y_pred_grad==y))"
   ]
  }
 ],
 "metadata": {
  "kernelspec": {
   "display_name": "Python [conda root]",
   "language": "python",
   "name": "conda-root-py"
  },
  "language_info": {
   "codemirror_mode": {
    "name": "ipython",
    "version": 3
   },
   "file_extension": ".py",
   "mimetype": "text/x-python",
   "name": "python",
   "nbconvert_exporter": "python",
   "pygments_lexer": "ipython3",
   "version": "3.5.3"
  }
 },
 "nbformat": 4,
 "nbformat_minor": 2
}
