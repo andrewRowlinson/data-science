{
 "cells": [
  {
   "cell_type": "markdown",
   "metadata": {},
   "source": [
    "# Linear regression three ways"
   ]
  },
  {
   "cell_type": "markdown",
   "metadata": {},
   "source": [
    "This notebook seeks to implement linear regression in three ways: <br>\n",
    "- sci-kit learn implementation <br>\n",
    "- normal equation implementation - using numpy arrays<br>\n",
    "- gradient descent implementation - using numpy arrays <br>\n",
    "<br>\n",
    "It uses the whole of the boston house-price dataset."
   ]
  },
  {
   "cell_type": "markdown",
   "metadata": {},
   "source": [
    "The setup for linear regression is:\n",
    "<br>\n",
    "<br>\n",
    "$Hypothesis: h(x) = \\sum_{j=1}^{n}\\theta_jx_j$\n",
    "<br>\n",
    "<br>\n",
    "$Cost: J(\\theta) = \\frac{1}{2m}\\sum_{i=1}^{m} (h_\\theta(x^{(i)}) - y^{(i)})^2$"
   ]
  },
  {
   "cell_type": "markdown",
   "metadata": {},
   "source": [
    "# Import libaries"
   ]
  },
  {
   "cell_type": "markdown",
   "metadata": {},
   "source": [
    "Load the libaries needed for multiple regression"
   ]
  },
  {
   "cell_type": "code",
   "execution_count": 1,
   "metadata": {
    "collapsed": true
   },
   "outputs": [],
   "source": [
    "import numpy as np\n",
    "from sklearn import datasets\n",
    "from sklearn import linear_model\n",
    "import matplotlib.pyplot as plt\n",
    "import seaborn as sns\n",
    "from sklearn.metrics import mean_squared_error\n",
    "from sklearn.preprocessing import StandardScaler"
   ]
  },
  {
   "cell_type": "markdown",
   "metadata": {},
   "source": [
    "# Setup chart/ print settings"
   ]
  },
  {
   "cell_type": "code",
   "execution_count": 2,
   "metadata": {
    "collapsed": true
   },
   "outputs": [],
   "source": [
    "# plot charts automatically\n",
    "%matplotlib inline\n",
    "# define plot styles\n",
    "sns.set(font_scale=2)\n",
    "sns.set_style(\"darkgrid\")"
   ]
  },
  {
   "cell_type": "markdown",
   "metadata": {},
   "source": [
    "Set print formats so that numpy arrays do not print in scientific format"
   ]
  },
  {
   "cell_type": "code",
   "execution_count": 3,
   "metadata": {
    "collapsed": true
   },
   "outputs": [],
   "source": [
    "# Set print conditions\n",
    "np.set_printoptions(suppress=True, precision=2) "
   ]
  },
  {
   "cell_type": "markdown",
   "metadata": {},
   "source": [
    "# Import datasets"
   ]
  },
  {
   "cell_type": "markdown",
   "metadata": {},
   "source": [
    "Load and return the boston house-prices dataset (regression)."
   ]
  },
  {
   "cell_type": "code",
   "execution_count": 4,
   "metadata": {
    "collapsed": true
   },
   "outputs": [],
   "source": [
    "# import boston dataset from sklearn and create X features and y vector\n",
    "boston = datasets.load_boston()\n",
    "y = boston.target\n",
    "X = boston.data"
   ]
  },
  {
   "cell_type": "markdown",
   "metadata": {},
   "source": [
    "Scale data as this is needed for regularization and gradient descent"
   ]
  },
  {
   "cell_type": "code",
   "execution_count": 5,
   "metadata": {
    "collapsed": true
   },
   "outputs": [],
   "source": [
    "# Initiate the standard scaler: scaler\n",
    "scaler = StandardScaler()\n",
    "# Scale data as feature scaling makes gradient descent/ regularization converge more quickly or converge at all\n",
    "X = scaler.fit_transform(X)"
   ]
  },
  {
   "cell_type": "markdown",
   "metadata": {},
   "source": [
    "Check format of data"
   ]
  },
  {
   "cell_type": "code",
   "execution_count": 6,
   "metadata": {},
   "outputs": [
    {
     "name": "stdout",
     "output_type": "stream",
     "text": [
      "(506,) (506, 13)\n"
     ]
    }
   ],
   "source": [
    "# check shape of the data\n",
    "print(y.shape,X.shape)"
   ]
  },
  {
   "cell_type": "markdown",
   "metadata": {},
   "source": [
    "# Regression"
   ]
  },
  {
   "cell_type": "markdown",
   "metadata": {},
   "source": [
    "### Sci-kit learn baseline"
   ]
  },
  {
   "cell_type": "code",
   "execution_count": 7,
   "metadata": {
    "collapsed": true
   },
   "outputs": [],
   "source": [
    "# Create the regressor: lr\n",
    "lr = linear_model.LinearRegression()"
   ]
  },
  {
   "cell_type": "code",
   "execution_count": 8,
   "metadata": {
    "collapsed": true
   },
   "outputs": [],
   "source": [
    "# Fit the model to the data: model\n",
    "model = lr.fit(X, y)"
   ]
  },
  {
   "cell_type": "code",
   "execution_count": 9,
   "metadata": {
    "collapsed": true
   },
   "outputs": [],
   "source": [
    "# Compute predictions for the features: y_pred\n",
    "y_pred = model.predict(X)"
   ]
  },
  {
   "cell_type": "code",
   "execution_count": 10,
   "metadata": {},
   "outputs": [
    {
     "name": "stdout",
     "output_type": "stream",
     "text": [
      "Intercept:  22.5328063241\n"
     ]
    }
   ],
   "source": [
    "# print intercept:\n",
    "print(\"Intercept: \",model.intercept_)"
   ]
  },
  {
   "cell_type": "code",
   "execution_count": 11,
   "metadata": {},
   "outputs": [
    {
     "name": "stdout",
     "output_type": "stream",
     "text": [
      "Coefficients:  [-0.92  1.08  0.14  0.68 -2.06  2.67  0.02 -3.1   2.66 -2.08 -2.06  0.86\n",
      " -3.75]\n"
     ]
    }
   ],
   "source": [
    "# print coefficients:\n",
    "print(\"Coefficients: \",model.coef_)"
   ]
  },
  {
   "cell_type": "code",
   "execution_count": 12,
   "metadata": {},
   "outputs": [
    {
     "name": "stdout",
     "output_type": "stream",
     "text": [
      "Mean squared error:  21.8977792177\n"
     ]
    }
   ],
   "source": [
    "# Print the mean squared error:\n",
    "print(\"Mean squared error: \",mean_squared_error(y,y_pred))"
   ]
  },
  {
   "cell_type": "markdown",
   "metadata": {},
   "source": [
    "### Normal equation"
   ]
  },
  {
   "cell_type": "markdown",
   "metadata": {},
   "source": [
    "Next an implemention of linear regression via the closed-form solution (analytical solution) below.\n",
    "<br>\n",
    "<br>\n",
    "$\n",
    "\\begin{align}\n",
    "\\theta = (X^TX)^{-1}X^Ty\n",
    "\\end{align}\n",
    "$\n",
    "<br>\n",
    "<br>"
   ]
  },
  {
   "cell_type": "code",
   "execution_count": 13,
   "metadata": {
    "collapsed": true
   },
   "outputs": [],
   "source": [
    "# Add column of 1s to feature matrix, which is needed for the matrix implementation of the normal equation and gradient descent\n",
    "X = np.hstack((np.ones((X.shape[0], 1)),X))"
   ]
  },
  {
   "cell_type": "code",
   "execution_count": 14,
   "metadata": {
    "collapsed": true
   },
   "outputs": [],
   "source": [
    "# Transpose the feature vector X: X_trans\n",
    "X_trans=np.transpose(X)"
   ]
  },
  {
   "cell_type": "code",
   "execution_count": 15,
   "metadata": {
    "collapsed": true
   },
   "outputs": [],
   "source": [
    "# Calculate theta using the normal equation: theta\n",
    "theta = np.dot(np.dot(np.linalg.inv(np.dot(X_trans,X)),X_trans),y)"
   ]
  },
  {
   "cell_type": "code",
   "execution_count": 16,
   "metadata": {
    "collapsed": true
   },
   "outputs": [],
   "source": [
    "# Compute predictions for the features\n",
    "y_pred2 = np.dot(X,theta)"
   ]
  },
  {
   "cell_type": "code",
   "execution_count": 17,
   "metadata": {},
   "outputs": [
    {
     "name": "stdout",
     "output_type": "stream",
     "text": [
      "Intercept:  22.5328063241\n"
     ]
    }
   ],
   "source": [
    "# print intercept\n",
    "print(\"Intercept: \",theta[0])"
   ]
  },
  {
   "cell_type": "code",
   "execution_count": 18,
   "metadata": {},
   "outputs": [
    {
     "name": "stdout",
     "output_type": "stream",
     "text": [
      "Coefficients:  [-0.92  1.08  0.14  0.68 -2.06  2.67  0.02 -3.1   2.66 -2.08 -2.06  0.86\n",
      " -3.75]\n"
     ]
    }
   ],
   "source": [
    "# print coefficients\n",
    "print(\"Coefficients: \",theta[1:])"
   ]
  },
  {
   "cell_type": "code",
   "execution_count": 19,
   "metadata": {},
   "outputs": [
    {
     "name": "stdout",
     "output_type": "stream",
     "text": [
      "Mean squared error:  21.8977792177\n"
     ]
    }
   ],
   "source": [
    "# calculate and print the mean squared error\n",
    "print(\"Mean squared error: \",np.mean(np.square(y_pred2-y)))"
   ]
  },
  {
   "cell_type": "markdown",
   "metadata": {},
   "source": [
    "### Batch gradient descent"
   ]
  },
  {
   "cell_type": "code",
   "execution_count": 20,
   "metadata": {
    "collapsed": true
   },
   "outputs": [],
   "source": [
    "# define cost function that computes the mean-squared error for given theta\n",
    "def cost(X,theta,y):\n",
    "    cost = np.mean(np.square((np.dot(X,theta))-y))\n",
    "    return cost"
   ]
  },
  {
   "cell_type": "code",
   "execution_count": 21,
   "metadata": {
    "collapsed": true
   },
   "outputs": [],
   "source": [
    "# define gradient function that computes the gradient for a given theta\n",
    "def gradient(X,theta,y,m):\n",
    "    gradient = np.dot(np.transpose(X),(np.dot(X,theta)-y))/m\n",
    "    return gradient"
   ]
  },
  {
   "cell_type": "code",
   "execution_count": 22,
   "metadata": {
    "collapsed": true
   },
   "outputs": [],
   "source": [
    "# define gradient descent function, which returns the cost and the final theta estimates for linear regression\n",
    "def gradient_descent(X,y,n_iter,alpha):\n",
    "    \n",
    "    # initilize theta vector to zeros\n",
    "    theta = np.zeros(X.shape[1])\n",
    "    \n",
    "    # initilize  costs vector to store results\n",
    "    costs = np.zeros(n_iter)\n",
    "    \n",
    "    # initilize  m=the number of training examples\n",
    "    m=y.shape[0]\n",
    "    \n",
    "    # perform batch gradient descent a maximum of n_iter times\n",
    "    for i in range(n_iter):\n",
    "        #Save old theta\n",
    "        theta_old = theta\n",
    "        \n",
    "        # Perform batch update of theta using gradient descent\n",
    "        theta = theta - alpha*gradient(X,theta,y,m)\n",
    "        \n",
    "        # Update costs vector with cost for new theta\n",
    "        costs[i]=cost(X,theta,y)\n",
    "        \n",
    "        # stopping criteria: stop if the norm of the difference in theta is less than 0.000001\n",
    "        epsilon = np.linalg.norm(theta-theta_old, ord=1)\n",
    "        if epsilon<0.000001:\n",
    "            # delete any unused space from vector before stopping\n",
    "            costs = np.delete(costs, range(i+1, n_iter), None)\n",
    "            break\n",
    "            \n",
    "        # Divergence test: if the costs start increasing by more than 1 stop and print error\n",
    "        if i>0:\n",
    "            diff = costs[i-1]-costs[i]\n",
    "            if(diff<-1):\n",
    "                raise ValueError('Gradient descent is diverging choose a smaller alpha')\n",
    "                \n",
    "        # Print message if didn't converge in number of iterations\n",
    "        if i+1 == n_iter:\n",
    "            print('Model did not fully convege try picking a higher number of iterations (n_iter) or learning rate (alpha)')\n",
    "    \n",
    "    #return the cost vector and theta\n",
    "    return costs,theta"
   ]
  },
  {
   "cell_type": "code",
   "execution_count": 23,
   "metadata": {
    "collapsed": true
   },
   "outputs": [],
   "source": [
    "# perform gradient descent with alpha=0.3 and iterations=650\n",
    "cost_grad,theta_grad=gradient_descent(X,y,n_iter=650,alpha=0.3)"
   ]
  },
  {
   "cell_type": "code",
   "execution_count": 24,
   "metadata": {},
   "outputs": [
    {
     "name": "stdout",
     "output_type": "stream",
     "text": [
      "Intercept:  22.5328063241\n"
     ]
    }
   ],
   "source": [
    "# print intercept:\n",
    "print(\"Intercept: \",theta_grad[0])"
   ]
  },
  {
   "cell_type": "code",
   "execution_count": 25,
   "metadata": {},
   "outputs": [
    {
     "name": "stdout",
     "output_type": "stream",
     "text": [
      "Coefficients:  [-0.92  1.08  0.14  0.68 -2.06  2.67  0.02 -3.1   2.66 -2.08 -2.06  0.86\n",
      " -3.75]\n"
     ]
    }
   ],
   "source": [
    "# print coefficients\n",
    "print(\"Coefficients: \",theta_grad[1:])"
   ]
  },
  {
   "cell_type": "code",
   "execution_count": 26,
   "metadata": {},
   "outputs": [
    {
     "name": "stdout",
     "output_type": "stream",
     "text": [
      "Mean squared error gradient descent:  21.8977792177\n"
     ]
    }
   ],
   "source": [
    "# print the mean squared error:\n",
    "print(\"Mean squared error gradient descent: \",cost_grad[-1])"
   ]
  },
  {
   "cell_type": "code",
   "execution_count": 27,
   "metadata": {},
   "outputs": [
    {
     "data": {
      "image/png": "[encoded data removed]",
      "text/plain": [
       "<matplotlib.figure.Figure at 0x2655b14b470>"
      ]
     },
     "metadata": {},
     "output_type": "display_data"
    }
   ],
   "source": [
    "# Plot cost compared to number of iterations\n",
    "plt.title(\"Convergence with alpha 0.3 learning rate\");\n",
    "plt.plot(cost_grad,color='black', label=\"0.3\");\n",
    "plt.ylabel('Cost/ loss');\n",
    "plt.xlabel('Iterations');\n",
    "plt.xlim(0,100);"
   ]
  },
  {
   "cell_type": "markdown",
   "metadata": {},
   "source": [
    "# Compare cost/loss of the methods"
   ]
  },
  {
   "cell_type": "code",
   "execution_count": 28,
   "metadata": {},
   "outputs": [
    {
     "name": "stdout",
     "output_type": "stream",
     "text": [
      "Mean squared error sci-kit learn:  21.8977792177\n",
      "Mean squared error normal equation:  21.8977792177\n",
      "Mean squared error gradient descent:  21.8977792177\n"
     ]
    }
   ],
   "source": [
    "print(\"Mean squared error sci-kit learn: \",mean_squared_error(y,y_pred))\n",
    "print(\"Mean squared error normal equation: \",np.mean(np.square(y_pred2-y)))\n",
    "print(\"Mean squared error gradient descent: \",cost_grad[-1])"
   ]
  }
 ],
 "metadata": {
  "kernelspec": {
   "display_name": "Python [conda root]",
   "language": "python",
   "name": "conda-root-py"
  },
  "language_info": {
   "codemirror_mode": {
    "name": "ipython",
    "version": 3
   },
   "file_extension": ".py",
   "mimetype": "text/x-python",
   "name": "python",
   "nbconvert_exporter": "python",
   "pygments_lexer": "ipython3",
   "version": "3.5.3"
  }
 },
 "nbformat": 4,
 "nbformat_minor": 2
}
