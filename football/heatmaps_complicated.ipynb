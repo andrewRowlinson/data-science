{
  "nbformat": 4,
  "nbformat_minor": 0,
  "metadata": {
    "colab": {
      "name": "heatmaps_complicated.ipynb",
      "provenance": [],
      "authorship_tag": "ABX9TyPi8ptXyOJ5mz8E0JQjknkk",
      "include_colab_link": true
    },
    "kernelspec": {
      "name": "python3",
      "display_name": "Python 3"
    },
    "language_info": {
      "name": "python"
    }
  },
  "cells": [
    {
      "cell_type": "markdown",
      "metadata": {
        "id": "view-in-github",
        "colab_type": "text"
      },
      "source": [
        "<a href=\"https://colab.research.google.com/github/andrewRowlinson/data-science/blob/master/football/heatmaps_complicated.ipynb\" target=\"_parent\"><img src=\"https://colab.research.google.com/assets/colab-badge.svg\" alt=\"Open In Colab\"/></a>"
      ]
    },
    {
      "cell_type": "code",
      "execution_count": 1,
      "metadata": {
        "colab": {
          "base_uri": "https://localhost:8080/"
        },
        "id": "u4z5M5rOBBYX",
        "outputId": "86890de0-7d18-40a9-b2a6-0201ac9804b7"
      },
      "outputs": [
        {
          "output_type": "stream",
          "name": "stdout",
          "text": [
            "Requirement already satisfied: mplsoccer in /usr/local/lib/python3.7/dist-packages (1.0.5)\n",
            "Requirement already satisfied: numpy in /usr/local/lib/python3.7/dist-packages (from mplsoccer) (1.19.5)\n",
            "Requirement already satisfied: matplotlib in /usr/local/lib/python3.7/dist-packages (from mplsoccer) (3.2.2)\n",
            "Requirement already satisfied: pillow in /usr/local/lib/python3.7/dist-packages (from mplsoccer) (7.1.2)\n",
            "Requirement already satisfied: scipy in /usr/local/lib/python3.7/dist-packages (from mplsoccer) (1.4.1)\n",
            "Requirement already satisfied: pandas in /usr/local/lib/python3.7/dist-packages (from mplsoccer) (1.1.5)\n",
            "Requirement already satisfied: beautifulsoup4 in /usr/local/lib/python3.7/dist-packages (from mplsoccer) (4.6.3)\n",
            "Requirement already satisfied: seaborn in /usr/local/lib/python3.7/dist-packages (from mplsoccer) (0.11.2)\n",
            "Requirement already satisfied: kiwisolver>=1.0.1 in /usr/local/lib/python3.7/dist-packages (from matplotlib->mplsoccer) (1.3.2)\n",
            "Requirement already satisfied: python-dateutil>=2.1 in /usr/local/lib/python3.7/dist-packages (from matplotlib->mplsoccer) (2.8.2)\n",
            "Requirement already satisfied: cycler>=0.10 in /usr/local/lib/python3.7/dist-packages (from matplotlib->mplsoccer) (0.11.0)\n",
            "Requirement already satisfied: pyparsing!=2.0.4,!=2.1.2,!=2.1.6,>=2.0.1 in /usr/local/lib/python3.7/dist-packages (from matplotlib->mplsoccer) (3.0.6)\n",
            "Requirement already satisfied: six>=1.5 in /usr/local/lib/python3.7/dist-packages (from python-dateutil>=2.1->matplotlib->mplsoccer) (1.15.0)\n",
            "Requirement already satisfied: pytz>=2017.2 in /usr/local/lib/python3.7/dist-packages (from pandas->mplsoccer) (2018.9)\n"
          ]
        }
      ],
      "source": [
        "!pip install mplsoccer"
      ]
    },
    {
      "cell_type": "code",
      "source": [
        "from mplsoccer import VerticalPitch\n",
        "from mplsoccer.heatmap import _BinnedStatisticResult\n",
        "import numpy as np"
      ],
      "metadata": {
        "id": "3QLsAXGZBDGo"
      },
      "execution_count": 2,
      "outputs": []
    },
    {
      "cell_type": "code",
      "source": [
        "p = VerticalPitch(pitch_type='statsbomb', half=True, line_zorder=1.5, line_color='None')"
      ],
      "metadata": {
        "id": "87N_cIOnBHLs"
      },
      "execution_count": 3,
      "outputs": []
    },
    {
      "cell_type": "code",
      "source": [
        "x = np.random.uniform(0, 120, 100)\n",
        "y = np.random.uniform(0, 80, 100)"
      ],
      "metadata": {
        "id": "SjUlnWfPBgSr"
      },
      "execution_count": 4,
      "outputs": []
    },
    {
      "cell_type": "markdown",
      "source": [
        "Heatmap 1"
      ],
      "metadata": {
        "id": "Vsa2yffUfIRM"
      }
    },
    {
      "cell_type": "code",
      "source": [
        "fig, ax = p.draw()\n",
        "sc = p.scatter(x, y, zorder=2, ax=ax, color='red')\n",
        "x_bin1 = np.array([p.dim.center_length, p.dim.penalty_area_right, p.dim.right])\n",
        "y_bin1 = np.sort([p.dim.top, p.dim.penalty_area_top, p.dim.six_yard_top,\n",
        "                   p.dim.six_yard_bottom, p.dim.penalty_area_bottom, p.dim.bottom])\n",
        "bs = p.bin_statistic(x=x, y=y, statistic='count', bins=(x_bin1, y_bin1))\n",
        "hm = p.heatmap(bs, ax=ax, zorder=1, cmap='Blues', edgecolor='black')\n",
        "txt = p.label_heatmap(bs, exclude_zeros=True, ax=ax, str_format='{0:.0f}')"
      ],
      "metadata": {
        "colab": {
          "base_uri": "https://localhost:8080/",
          "height": 297
        },
        "id": "UM14gndqD8O9",
        "outputId": "7b412908-77ac-41e3-8fdd-2806e314f675"
      },
      "execution_count": 5,
      "outputs": [
        {
          "output_type": "display_data",
          "data": {
            "image/png": "[encoded data removed]",
            "text/plain": [
              "<Figure size 432x288 with 1 Axes>"
            ]
          },
          "metadata": {}
        }
      ]
    },
    {
      "cell_type": "markdown",
      "source": [
        "Heatmap 2"
      ],
      "metadata": {
        "id": "8rNupS4sfROa"
      }
    },
    {
      "cell_type": "code",
      "source": [
        "fig, ax = p.draw()\n",
        "sc = p.scatter(x, y, zorder=2, ax=ax, color='red')\n",
        "x_bin2 = np.linspace(p.dim.penalty_area_right, p.dim.right, num=4)\n",
        "x_bin2 = np.insert(x_bin2, 0,  p.dim.center_length)\n",
        "y_bin2 = np.sort([p.dim.top, p.dim.six_yard_top, p.dim.goal_top, p.dim.goal_bottom,\n",
        "                 p.dim.six_yard_bottom, p.dim.bottom])\n",
        "bs = p.bin_statistic(x=x, y=y, statistic='count', bins=(x_bin2, y_bin2))\n",
        "hm = p.heatmap(bs, ax=ax, zorder=1, cmap='Blues', edgecolor='black')\n",
        "txt = p.label_heatmap(bs, exclude_zeros=True, ax=ax, str_format='{0:.0f}')"
      ],
      "metadata": {
        "colab": {
          "base_uri": "https://localhost:8080/",
          "height": 297
        },
        "id": "dmE0i1RFBOYD",
        "outputId": "8137a81e-75a2-476c-d368-24d8f96c41d7"
      },
      "execution_count": 6,
      "outputs": [
        {
          "output_type": "display_data",
          "data": {
            "image/png": "[encoded data removed]",
            "text/plain": [
              "<Figure size 432x288 with 1 Axes>"
            ]
          },
          "metadata": {}
        }
      ]
    },
    {
      "cell_type": "markdown",
      "source": [
        "Combining the heatmaps"
      ],
      "metadata": {
        "id": "JSx0KfnNfaKC"
      }
    },
    {
      "cell_type": "code",
      "source": [
        "x_bin1 = np.array([p.dim.center_length, p.dim.penalty_area_right, p.dim.right])\n",
        "y_bin1 = np.sort([p.dim.top, p.dim.penalty_area_top, p.dim.six_yard_top,\n",
        "                   p.dim.six_yard_bottom, p.dim.penalty_area_bottom, p.dim.bottom])\n",
        "bs1 = p.bin_statistic(x=x, y=y, statistic='count', bins=(x_bin1, y_bin1))\n",
        "result1 = _BinnedStatisticResult(bs1['statistic'][:2, :2], bs1['x_grid'][:3, :3],\n",
        "                                 bs1['y_grid'][:3, :3], bs1['cx'][:2, :2], bs1['cy'][:2, :2])._asdict()\n",
        "result2 = _BinnedStatisticResult(bs1['statistic'][-2:, -2:], bs1['x_grid'][-3:, -3:],\n",
        "                                 bs1['y_grid'][-3:, -3:], bs1['cx'][-2:, -2:], bs1['cy'][-2:, -2:])._asdict()  \n",
        "result3 = _BinnedStatisticResult(bs1['statistic'][2:3, :1], bs1['x_grid'][2:4, :2],\n",
        "                                 bs1['y_grid'][2:4, :2], bs1['cx'][2:3, :1], bs1['cy'][2:3, :1])._asdict()       \n",
        "\n",
        "x_bin2 = np.linspace(p.dim.penalty_area_right, p.dim.right, num=4)\n",
        "x_bin2 = np.insert(x_bin2, 0,  p.dim.center_length)\n",
        "y_bin2 = np.sort([p.dim.top, p.dim.six_yard_top, p.dim.goal_top, p.dim.goal_bottom,\n",
        "                 p.dim.six_yard_bottom, p.dim.bottom])\n",
        "bs2 = p.bin_statistic(x=x, y=y, statistic='count', bins=(x_bin2, y_bin2))\n",
        "\n",
        "result4 = _BinnedStatisticResult(bs2['statistic'][1:-1, 1:], bs2['x_grid'][1:-1, 1:],\n",
        "                                 bs2['y_grid'][1:-1, 1:], bs2['cx'][1:-1, 1:], bs2['cy'][1:-1, 1:])._asdict()                                             \n",
        "bs_all = [result1, result2, result3, result4]\n",
        "\n",
        "fig, ax = p.draw()\n",
        "sc = p.scatter(x, y, zorder=2, ax=ax, color='red')\n",
        "hm = p.heatmap_positional(bs_all, ax=ax, zorder=1, cmap='Blues', edgecolor='black')\n",
        "txt = p.label_heatmap(bs_all, exclude_zeros=True, str_format='{0:.0f}', ax=ax)"
      ],
      "metadata": {
        "colab": {
          "base_uri": "https://localhost:8080/",
          "height": 297
        },
        "id": "lHn7cP2wQdHr",
        "outputId": "fb953905-ed2f-4451-9688-c8ef85cc6251"
      },
      "execution_count": 7,
      "outputs": [
        {
          "output_type": "display_data",
          "data": {
            "image/png": "[encoded data removed]",
            "text/plain": [
              "<Figure size 432x288 with 1 Axes>"
            ]
          },
          "metadata": {}
        }
      ]
    }
  ]
}