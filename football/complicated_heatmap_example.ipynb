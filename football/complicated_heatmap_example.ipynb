{
  "nbformat": 4,
  "nbformat_minor": 0,
  "metadata": {
    "colab": {
      "provenance": [],
      "authorship_tag": "ABX9TyOJaEN9hW87or08WQkfkTrS",
      "include_colab_link": true
    },
    "kernelspec": {
      "name": "python3",
      "display_name": "Python 3"
    },
    "language_info": {
      "name": "python"
    }
  },
  "cells": [
    {
      "cell_type": "markdown",
      "metadata": {
        "id": "view-in-github",
        "colab_type": "text"
      },
      "source": [
        "<a href=\"https://colab.research.google.com/github/andrewRowlinson/data-science/blob/master/football/complicated_heatmap_example.ipynb\" target=\"_parent\"><img src=\"https://colab.research.google.com/assets/colab-badge.svg\" alt=\"Open In Colab\"/></a>"
      ]
    },
    {
      "cell_type": "code",
      "execution_count": 1,
      "metadata": {
        "colab": {
          "base_uri": "https://localhost:8080/"
        },
        "id": "KIgxCJ3bv16e",
        "outputId": "505e6577-3005-474f-dcb9-1b0ad7141bb3"
      },
      "outputs": [
        {
          "output_type": "stream",
          "name": "stdout",
          "text": [
            "Collecting mplsoccer\n",
            "  Downloading mplsoccer-1.2.4-py3-none-any.whl (79 kB)\n",
            "\u001b[2K     \u001b[90m━━━━━━━━━━━━━━━━━━━━━━━━━━━━━━━━━━━━━━━━\u001b[0m \u001b[32m79.4/79.4 kB\u001b[0m \u001b[31m1.7 MB/s\u001b[0m eta \u001b[36m0:00:00\u001b[0m\n",
            "\u001b[?25hRequirement already satisfied: matplotlib>=3.6 in /usr/local/lib/python3.10/dist-packages (from mplsoccer) (3.7.1)\n",
            "Requirement already satisfied: numpy in /usr/local/lib/python3.10/dist-packages (from mplsoccer) (1.25.2)\n",
            "Requirement already satisfied: pandas in /usr/local/lib/python3.10/dist-packages (from mplsoccer) (1.5.3)\n",
            "Requirement already satisfied: pillow in /usr/local/lib/python3.10/dist-packages (from mplsoccer) (9.4.0)\n",
            "Requirement already satisfied: requests in /usr/local/lib/python3.10/dist-packages (from mplsoccer) (2.31.0)\n",
            "Requirement already satisfied: scipy in /usr/local/lib/python3.10/dist-packages (from mplsoccer) (1.11.4)\n",
            "Requirement already satisfied: seaborn in /usr/local/lib/python3.10/dist-packages (from mplsoccer) (0.13.1)\n",
            "Requirement already satisfied: contourpy>=1.0.1 in /usr/local/lib/python3.10/dist-packages (from matplotlib>=3.6->mplsoccer) (1.2.0)\n",
            "Requirement already satisfied: cycler>=0.10 in /usr/local/lib/python3.10/dist-packages (from matplotlib>=3.6->mplsoccer) (0.12.1)\n",
            "Requirement already satisfied: fonttools>=4.22.0 in /usr/local/lib/python3.10/dist-packages (from matplotlib>=3.6->mplsoccer) (4.50.0)\n",
            "Requirement already satisfied: kiwisolver>=1.0.1 in /usr/local/lib/python3.10/dist-packages (from matplotlib>=3.6->mplsoccer) (1.4.5)\n",
            "Requirement already satisfied: packaging>=20.0 in /usr/local/lib/python3.10/dist-packages (from matplotlib>=3.6->mplsoccer) (24.0)\n",
            "Requirement already satisfied: pyparsing>=2.3.1 in /usr/local/lib/python3.10/dist-packages (from matplotlib>=3.6->mplsoccer) (3.1.2)\n",
            "Requirement already satisfied: python-dateutil>=2.7 in /usr/local/lib/python3.10/dist-packages (from matplotlib>=3.6->mplsoccer) (2.8.2)\n",
            "Requirement already satisfied: pytz>=2020.1 in /usr/local/lib/python3.10/dist-packages (from pandas->mplsoccer) (2023.4)\n",
            "Requirement already satisfied: charset-normalizer<4,>=2 in /usr/local/lib/python3.10/dist-packages (from requests->mplsoccer) (3.3.2)\n",
            "Requirement already satisfied: idna<4,>=2.5 in /usr/local/lib/python3.10/dist-packages (from requests->mplsoccer) (3.6)\n",
            "Requirement already satisfied: urllib3<3,>=1.21.1 in /usr/local/lib/python3.10/dist-packages (from requests->mplsoccer) (2.0.7)\n",
            "Requirement already satisfied: certifi>=2017.4.17 in /usr/local/lib/python3.10/dist-packages (from requests->mplsoccer) (2024.2.2)\n",
            "Requirement already satisfied: six>=1.5 in /usr/local/lib/python3.10/dist-packages (from python-dateutil>=2.7->matplotlib>=3.6->mplsoccer) (1.16.0)\n",
            "Installing collected packages: mplsoccer\n",
            "Successfully installed mplsoccer-1.2.4\n"
          ]
        }
      ],
      "source": [
        "!pip install mplsoccer"
      ]
    },
    {
      "cell_type": "code",
      "source": [
        "from mplsoccer.heatmap import _BinnedStatisticResult\n",
        "from mplsoccer import Pitch, Sbopen\n",
        "import pandas as pd\n",
        "import numpy as np\n",
        "\n",
        "# get data\n",
        "parser = Sbopen()\n",
        "pitch = Pitch(line_zorder=3)\n",
        "\n",
        "match_files = [19789, 19794, 19805]\n",
        "df = pd.concat([parser.event(file)[0] for file in match_files])  # 0 index is the event file\n",
        "# filter chelsea pressure events\n",
        "mask_chelsea_pressure = (df.team_name == 'Chelsea FCW') & (df.type_name == 'Pressure')\n",
        "df = df.loc[mask_chelsea_pressure, ['x', 'y']]\n",
        "x = df.x\n",
        "y = df.y\n",
        "\n",
        "x_dim = np.concatenate([pitch.dim.positional_x[0:1], [pitch.dim.six_yard_left],\n",
        "                        pitch.dim.positional_x[1:-1],\n",
        "                        [pitch.dim.six_yard_right], pitch.dim.positional_x[-1:]]\n",
        "                       )\n",
        "y_dim = pitch.dim.positional_y"
      ],
      "metadata": {
        "id": "qElc5sNVv3gT"
      },
      "execution_count": 2,
      "outputs": []
    },
    {
      "cell_type": "markdown",
      "source": [
        "# Plot initial heatmap with all boxes (some of these need to be combined)"
      ],
      "metadata": {
        "id": "Jr8oK2W_wsOo"
      }
    },
    {
      "cell_type": "code",
      "source": [
        "fig, ax = pitch.draw()\n",
        "bs = pitch.bin_statistic(x, y, bins=(x_dim, y_dim))\n",
        "hm = pitch.heatmap(bs, ax=ax)"
      ],
      "metadata": {
        "colab": {
          "base_uri": "https://localhost:8080/",
          "height": 456
        },
        "id": "2Ej9a7pQv59W",
        "outputId": "389cb9d1-5cd0-4139-889a-3f1436151a55"
      },
      "execution_count": 3,
      "outputs": [
        {
          "output_type": "display_data",
          "data": {
            "text/plain": [
              "<Figure size 640x480 with 1 Axes>"
            ],
            "image/png": "[encoded data removed]"
          },
          "metadata": {}
        }
      ]
    },
    {
      "cell_type": "markdown",
      "source": [
        "# Build individual parts|"
      ],
      "metadata": {
        "id": "4nnE7dqxw7MW"
      }
    },
    {
      "cell_type": "markdown",
      "source": [
        "# Right and left penalty area"
      ],
      "metadata": {
        "id": "QnATxL4v6wKr"
      }
    },
    {
      "cell_type": "code",
      "source": [
        "# sides\n",
        "bs1 = pitch.bin_statistic(x, y, bins=(x_dim[[0, 2, 3, 4, 5, 6, 8]], y_dim))\n",
        "# middle\n",
        "bs2 = pitch.bin_statistic(x, y, bins=(x_dim[[0, 1, 2, 4, 6, 7, 8]], y_dim))"
      ],
      "metadata": {
        "id": "gXXfk0pE6vYK"
      },
      "execution_count": 4,
      "outputs": []
    },
    {
      "cell_type": "code",
      "source": [
        "side1 = _BinnedStatisticResult(bs1['statistic'][:1, :],\n",
        "                               bs1['x_grid'][:2, :],\n",
        "                               bs1['y_grid'][:2, :],\n",
        "                               bs1['cx'][:1, :],\n",
        "                               bs1['cy'][:1, :],\n",
        "                               None,\n",
        "                               None\n",
        "                               )._asdict()\n",
        "\n",
        "middle = _BinnedStatisticResult(bs2['statistic'][1: -1, :],\n",
        "                                bs2['x_grid'][1: -1, :],\n",
        "                                bs2['y_grid'][1: -1, :],\n",
        "                                bs2['cx'][-2, :],\n",
        "                                bs2['cy'][-2:, :],\n",
        "                                None,\n",
        "                                None\n",
        "                                )._asdict()\n",
        "\n",
        "side2 = _BinnedStatisticResult(bs1['statistic'][-1:, :],\n",
        "                               bs1['x_grid'][-2:, :],\n",
        "                               bs1['y_grid'][-2:, :],\n",
        "                               bs1['cx'][-1, :],\n",
        "                               bs1['cy'][-1:, :],\n",
        "                               None,\n",
        "                               None\n",
        "                               )._asdict()\n",
        "\n",
        "stats = [side1, middle, side2]"
      ],
      "metadata": {
        "id": "kngyU-pF-dB6"
      },
      "execution_count": 5,
      "outputs": []
    },
    {
      "cell_type": "code",
      "source": [
        "fig, ax = pitch.draw()\n",
        "hm = pitch.heatmap_positional(stats, ec='black', ax=ax)"
      ],
      "metadata": {
        "colab": {
          "base_uri": "https://localhost:8080/",
          "height": 456
        },
        "id": "6bhPz5cr8kDY",
        "outputId": "3c234191-8abd-4cc7-d283-d92597417bcc"
      },
      "execution_count": 6,
      "outputs": [
        {
          "output_type": "display_data",
          "data": {
            "text/plain": [
              "<Figure size 640x480 with 1 Axes>"
            ],
            "image/png": "[encoded data removed]"
          },
          "metadata": {}
        }
      ]
    }
  ]
}